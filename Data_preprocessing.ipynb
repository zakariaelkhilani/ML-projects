{
  "nbformat": 4,
  "nbformat_minor": 0,
  "metadata": {
    "colab": {
      "name": "Data_preprocessing.ipynb",
      "provenance": [],
      "collapsed_sections": []
    },
    "kernelspec": {
      "name": "python3",
      "display_name": "Python 3"
    },
    "language_info": {
      "name": "python"
    }
  },
  "cells": [
    {
      "cell_type": "code",
      "metadata": {
        "id": "pOfdwfVaNODO"
      },
      "source": [
        "import numpy as np\n",
        "import pandas as pd"
      ],
      "execution_count": null,
      "outputs": []
    },
    {
      "cell_type": "code",
      "metadata": {
        "id": "zx9blRaXNib8"
      },
      "source": [
        "df = pd.read_excel('/content/Nouveau file.xlsx', header=None)"
      ],
      "execution_count": null,
      "outputs": []
    },
    {
      "cell_type": "code",
      "metadata": {
        "colab": {
          "base_uri": "https://localhost:8080/",
          "height": 202
        },
        "id": "ENhElYbiNnny",
        "outputId": "32171740-2907-469d-dce1-717b0259ba44"
      },
      "source": [
        "df.head()"
      ],
      "execution_count": null,
      "outputs": [
        {
          "output_type": "execute_result",
          "data": {
            "text/html": [
              "<div>\n",
              "<style scoped>\n",
              "    .dataframe tbody tr th:only-of-type {\n",
              "        vertical-align: middle;\n",
              "    }\n",
              "\n",
              "    .dataframe tbody tr th {\n",
              "        vertical-align: top;\n",
              "    }\n",
              "\n",
              "    .dataframe thead th {\n",
              "        text-align: right;\n",
              "    }\n",
              "</style>\n",
              "<table border=\"1\" class=\"dataframe\">\n",
              "  <thead>\n",
              "    <tr style=\"text-align: right;\">\n",
              "      <th></th>\n",
              "      <th>0</th>\n",
              "    </tr>\n",
              "  </thead>\n",
              "  <tbody>\n",
              "    <tr>\n",
              "      <th>0</th>\n",
              "      <td>&gt;hsa-let-7a-5p MIMAT0000062 Homo sapiens let-7...</td>\n",
              "    </tr>\n",
              "    <tr>\n",
              "      <th>1</th>\n",
              "      <td>UGAGGUAGUAGGUUGUAUAGUU</td>\n",
              "    </tr>\n",
              "    <tr>\n",
              "      <th>2</th>\n",
              "      <td>&gt;hsa-let-7a-3p MIMAT0004481 Homo sapiens let-7...</td>\n",
              "    </tr>\n",
              "    <tr>\n",
              "      <th>3</th>\n",
              "      <td>CUAUACAAUCUACUGUCUUUC</td>\n",
              "    </tr>\n",
              "    <tr>\n",
              "      <th>4</th>\n",
              "      <td>&gt;hsa-let-7a-2-3p MIMAT0010195 Homo sapiens let...</td>\n",
              "    </tr>\n",
              "  </tbody>\n",
              "</table>\n",
              "</div>"
            ],
            "text/plain": [
              "                                                   0\n",
              "0  >hsa-let-7a-5p MIMAT0000062 Homo sapiens let-7...\n",
              "1                             UGAGGUAGUAGGUUGUAUAGUU\n",
              "2  >hsa-let-7a-3p MIMAT0004481 Homo sapiens let-7...\n",
              "3                              CUAUACAAUCUACUGUCUUUC\n",
              "4  >hsa-let-7a-2-3p MIMAT0010195 Homo sapiens let..."
            ]
          },
          "metadata": {
            "tags": []
          },
          "execution_count": 3
        }
      ]
    },
    {
      "cell_type": "code",
      "metadata": {
        "colab": {
          "base_uri": "https://localhost:8080/"
        },
        "id": "MrsnSpA0NqeA",
        "outputId": "e7b52926-fdf0-4c32-b547-9a4c28da169d"
      },
      "source": [
        "total = len(df)\n",
        "total"
      ],
      "execution_count": null,
      "outputs": [
        {
          "output_type": "execute_result",
          "data": {
            "text/plain": [
              "5312"
            ]
          },
          "metadata": {
            "tags": []
          },
          "execution_count": 4
        }
      ]
    },
    {
      "cell_type": "code",
      "metadata": {
        "id": "sUANwq8WNt8W"
      },
      "source": [
        "#seperation or rows one for RNA(even id) and other for sequence(Odd id)\n",
        "odds= []\n",
        "evens = []\n",
        "for i in range(total):\n",
        "    if i%2 == 0:\n",
        "        odds.append(i)\n",
        "    else:\n",
        "        evens.append(i)"
      ],
      "execution_count": null,
      "outputs": []
    },
    {
      "cell_type": "code",
      "metadata": {
        "id": "Z-GbFbAJNwXh"
      },
      "source": [
        "# the index of each row\n",
        "df_evens = df.iloc[evens].reset_index()\n",
        "df_odds = df.iloc[odds].reset_index()"
      ],
      "execution_count": null,
      "outputs": []
    },
    {
      "cell_type": "code",
      "metadata": {
        "colab": {
          "base_uri": "https://localhost:8080/",
          "height": 415
        },
        "id": "OumWNBhcNyKD",
        "outputId": "12f5b7ce-9b26-4cfd-8ba0-0281b335c7c1"
      },
      "source": [
        "df_odds"
      ],
      "execution_count": null,
      "outputs": [
        {
          "output_type": "execute_result",
          "data": {
            "text/html": [
              "<div>\n",
              "<style scoped>\n",
              "    .dataframe tbody tr th:only-of-type {\n",
              "        vertical-align: middle;\n",
              "    }\n",
              "\n",
              "    .dataframe tbody tr th {\n",
              "        vertical-align: top;\n",
              "    }\n",
              "\n",
              "    .dataframe thead th {\n",
              "        text-align: right;\n",
              "    }\n",
              "</style>\n",
              "<table border=\"1\" class=\"dataframe\">\n",
              "  <thead>\n",
              "    <tr style=\"text-align: right;\">\n",
              "      <th></th>\n",
              "      <th>index</th>\n",
              "      <th>0</th>\n",
              "    </tr>\n",
              "  </thead>\n",
              "  <tbody>\n",
              "    <tr>\n",
              "      <th>0</th>\n",
              "      <td>0</td>\n",
              "      <td>&gt;hsa-let-7a-5p MIMAT0000062 Homo sapiens let-7...</td>\n",
              "    </tr>\n",
              "    <tr>\n",
              "      <th>1</th>\n",
              "      <td>2</td>\n",
              "      <td>&gt;hsa-let-7a-3p MIMAT0004481 Homo sapiens let-7...</td>\n",
              "    </tr>\n",
              "    <tr>\n",
              "      <th>2</th>\n",
              "      <td>4</td>\n",
              "      <td>&gt;hsa-let-7a-2-3p MIMAT0010195 Homo sapiens let...</td>\n",
              "    </tr>\n",
              "    <tr>\n",
              "      <th>3</th>\n",
              "      <td>6</td>\n",
              "      <td>&gt;hsa-let-7b-5p MIMAT0000063 Homo sapiens let-7...</td>\n",
              "    </tr>\n",
              "    <tr>\n",
              "      <th>4</th>\n",
              "      <td>8</td>\n",
              "      <td>&gt;hsa-let-7b-3p MIMAT0004482 Homo sapiens let-7...</td>\n",
              "    </tr>\n",
              "    <tr>\n",
              "      <th>...</th>\n",
              "      <td>...</td>\n",
              "      <td>...</td>\n",
              "    </tr>\n",
              "    <tr>\n",
              "      <th>2651</th>\n",
              "      <td>5302</td>\n",
              "      <td>&gt;hsa-miR-12131 MIMAT0049025 Homo sapiens miR-1...</td>\n",
              "    </tr>\n",
              "    <tr>\n",
              "      <th>2652</th>\n",
              "      <td>5304</td>\n",
              "      <td>&gt;hsa-miR-12132 MIMAT0049026 Homo sapiens miR-1...</td>\n",
              "    </tr>\n",
              "    <tr>\n",
              "      <th>2653</th>\n",
              "      <td>5306</td>\n",
              "      <td>&gt;hsa-miR-12133 MIMAT0049027 Homo sapiens miR-1...</td>\n",
              "    </tr>\n",
              "    <tr>\n",
              "      <th>2654</th>\n",
              "      <td>5308</td>\n",
              "      <td>&gt;hsa-miR-12135 MIMAT0049031 Homo sapiens miR-1...</td>\n",
              "    </tr>\n",
              "    <tr>\n",
              "      <th>2655</th>\n",
              "      <td>5310</td>\n",
              "      <td>&gt;hsa-miR-12136 MIMAT0049032 Homo sapiens miR-1...</td>\n",
              "    </tr>\n",
              "  </tbody>\n",
              "</table>\n",
              "<p>2656 rows × 2 columns</p>\n",
              "</div>"
            ],
            "text/plain": [
              "      index                                                  0\n",
              "0         0  >hsa-let-7a-5p MIMAT0000062 Homo sapiens let-7...\n",
              "1         2  >hsa-let-7a-3p MIMAT0004481 Homo sapiens let-7...\n",
              "2         4  >hsa-let-7a-2-3p MIMAT0010195 Homo sapiens let...\n",
              "3         6  >hsa-let-7b-5p MIMAT0000063 Homo sapiens let-7...\n",
              "4         8  >hsa-let-7b-3p MIMAT0004482 Homo sapiens let-7...\n",
              "...     ...                                                ...\n",
              "2651   5302  >hsa-miR-12131 MIMAT0049025 Homo sapiens miR-1...\n",
              "2652   5304  >hsa-miR-12132 MIMAT0049026 Homo sapiens miR-1...\n",
              "2653   5306  >hsa-miR-12133 MIMAT0049027 Homo sapiens miR-1...\n",
              "2654   5308  >hsa-miR-12135 MIMAT0049031 Homo sapiens miR-1...\n",
              "2655   5310  >hsa-miR-12136 MIMAT0049032 Homo sapiens miR-1...\n",
              "\n",
              "[2656 rows x 2 columns]"
            ]
          },
          "metadata": {
            "tags": []
          },
          "execution_count": 7
        }
      ]
    },
    {
      "cell_type": "code",
      "metadata": {
        "id": "y09eUH5YN1Hg"
      },
      "source": [
        "#brings together Rna ids and Sequences in different columns\n",
        "df = df_evens.join(df_odds, lsuffix='_caller', rsuffix='_other')"
      ],
      "execution_count": null,
      "outputs": []
    },
    {
      "cell_type": "code",
      "metadata": {
        "id": "jSB5VEehN4kb"
      },
      "source": [
        "df.drop(['index_caller', 'index_other'], axis=1, inplace = True)"
      ],
      "execution_count": null,
      "outputs": []
    },
    {
      "cell_type": "code",
      "metadata": {
        "colab": {
          "base_uri": "https://localhost:8080/",
          "height": 415
        },
        "id": "dyhbenJnN7Wq",
        "outputId": "42ba087a-d87a-4eb7-f6a7-848d3b2caf98"
      },
      "source": [
        "df"
      ],
      "execution_count": null,
      "outputs": [
        {
          "output_type": "execute_result",
          "data": {
            "text/html": [
              "<div>\n",
              "<style scoped>\n",
              "    .dataframe tbody tr th:only-of-type {\n",
              "        vertical-align: middle;\n",
              "    }\n",
              "\n",
              "    .dataframe tbody tr th {\n",
              "        vertical-align: top;\n",
              "    }\n",
              "\n",
              "    .dataframe thead th {\n",
              "        text-align: right;\n",
              "    }\n",
              "</style>\n",
              "<table border=\"1\" class=\"dataframe\">\n",
              "  <thead>\n",
              "    <tr style=\"text-align: right;\">\n",
              "      <th></th>\n",
              "      <th>0_caller</th>\n",
              "      <th>0_other</th>\n",
              "    </tr>\n",
              "  </thead>\n",
              "  <tbody>\n",
              "    <tr>\n",
              "      <th>0</th>\n",
              "      <td>UGAGGUAGUAGGUUGUAUAGUU</td>\n",
              "      <td>&gt;hsa-let-7a-5p MIMAT0000062 Homo sapiens let-7...</td>\n",
              "    </tr>\n",
              "    <tr>\n",
              "      <th>1</th>\n",
              "      <td>CUAUACAAUCUACUGUCUUUC</td>\n",
              "      <td>&gt;hsa-let-7a-3p MIMAT0004481 Homo sapiens let-7...</td>\n",
              "    </tr>\n",
              "    <tr>\n",
              "      <th>2</th>\n",
              "      <td>CUGUACAGCCUCCUAGCUUUCC</td>\n",
              "      <td>&gt;hsa-let-7a-2-3p MIMAT0010195 Homo sapiens let...</td>\n",
              "    </tr>\n",
              "    <tr>\n",
              "      <th>3</th>\n",
              "      <td>UGAGGUAGUAGGUUGUGUGGUU</td>\n",
              "      <td>&gt;hsa-let-7b-5p MIMAT0000063 Homo sapiens let-7...</td>\n",
              "    </tr>\n",
              "    <tr>\n",
              "      <th>4</th>\n",
              "      <td>CUAUACAACCUACUGCCUUCCC</td>\n",
              "      <td>&gt;hsa-let-7b-3p MIMAT0004482 Homo sapiens let-7...</td>\n",
              "    </tr>\n",
              "    <tr>\n",
              "      <th>...</th>\n",
              "      <td>...</td>\n",
              "      <td>...</td>\n",
              "    </tr>\n",
              "    <tr>\n",
              "      <th>2651</th>\n",
              "      <td>UUUGGAGAGGUGUACUCCCA</td>\n",
              "      <td>&gt;hsa-miR-12131 MIMAT0049025 Homo sapiens miR-1...</td>\n",
              "    </tr>\n",
              "    <tr>\n",
              "      <th>2652</th>\n",
              "      <td>UAUUACUGUGAGAAUUAUGAUG</td>\n",
              "      <td>&gt;hsa-miR-12132 MIMAT0049026 Homo sapiens miR-1...</td>\n",
              "    </tr>\n",
              "    <tr>\n",
              "      <th>2653</th>\n",
              "      <td>CUUGGCACCAUUAAAAAGUACA</td>\n",
              "      <td>&gt;hsa-miR-12133 MIMAT0049027 Homo sapiens miR-1...</td>\n",
              "    </tr>\n",
              "    <tr>\n",
              "      <th>2654</th>\n",
              "      <td>UAAAGGUUUGUUUGUAAA</td>\n",
              "      <td>&gt;hsa-miR-12135 MIMAT0049031 Homo sapiens miR-1...</td>\n",
              "    </tr>\n",
              "    <tr>\n",
              "      <th>2655</th>\n",
              "      <td>GAAAAAGUCAUGGAGGCC</td>\n",
              "      <td>&gt;hsa-miR-12136 MIMAT0049032 Homo sapiens miR-1...</td>\n",
              "    </tr>\n",
              "  </tbody>\n",
              "</table>\n",
              "<p>2656 rows × 2 columns</p>\n",
              "</div>"
            ],
            "text/plain": [
              "                    0_caller                                            0_other\n",
              "0     UGAGGUAGUAGGUUGUAUAGUU  >hsa-let-7a-5p MIMAT0000062 Homo sapiens let-7...\n",
              "1      CUAUACAAUCUACUGUCUUUC  >hsa-let-7a-3p MIMAT0004481 Homo sapiens let-7...\n",
              "2     CUGUACAGCCUCCUAGCUUUCC  >hsa-let-7a-2-3p MIMAT0010195 Homo sapiens let...\n",
              "3     UGAGGUAGUAGGUUGUGUGGUU  >hsa-let-7b-5p MIMAT0000063 Homo sapiens let-7...\n",
              "4     CUAUACAACCUACUGCCUUCCC  >hsa-let-7b-3p MIMAT0004482 Homo sapiens let-7...\n",
              "...                      ...                                                ...\n",
              "2651    UUUGGAGAGGUGUACUCCCA  >hsa-miR-12131 MIMAT0049025 Homo sapiens miR-1...\n",
              "2652  UAUUACUGUGAGAAUUAUGAUG  >hsa-miR-12132 MIMAT0049026 Homo sapiens miR-1...\n",
              "2653  CUUGGCACCAUUAAAAAGUACA  >hsa-miR-12133 MIMAT0049027 Homo sapiens miR-1...\n",
              "2654      UAAAGGUUUGUUUGUAAA  >hsa-miR-12135 MIMAT0049031 Homo sapiens miR-1...\n",
              "2655      GAAAAAGUCAUGGAGGCC  >hsa-miR-12136 MIMAT0049032 Homo sapiens miR-1...\n",
              "\n",
              "[2656 rows x 2 columns]"
            ]
          },
          "metadata": {
            "tags": []
          },
          "execution_count": 10
        }
      ]
    },
    {
      "cell_type": "code",
      "metadata": {
        "colab": {
          "base_uri": "https://localhost:8080/",
          "height": 35
        },
        "id": "n_n3AQ4TN9Ms",
        "outputId": "e800d167-a1be-4103-ce1b-0d66c0f15e50"
      },
      "source": [
        "df['0_other'].iloc[0] #[1:].split(' ')[0]"
      ],
      "execution_count": null,
      "outputs": [
        {
          "output_type": "execute_result",
          "data": {
            "application/vnd.google.colaboratory.intrinsic+json": {
              "type": "string"
            },
            "text/plain": [
              "'>hsa-let-7a-5p MIMAT0000062 Homo sapiens let-7a-5p'"
            ]
          },
          "metadata": {
            "tags": []
          },
          "execution_count": 11
        }
      ]
    },
    {
      "cell_type": "code",
      "metadata": {
        "id": "wVE8DmJQODti"
      },
      "source": [
        "#to find RNAid and make new columns just for id \n",
        "df['Rna_id'] = df['0_other'].apply( lambda x :  x[1:].split(' ')[0])"
      ],
      "execution_count": null,
      "outputs": []
    },
    {
      "cell_type": "code",
      "metadata": {
        "colab": {
          "base_uri": "https://localhost:8080/",
          "height": 415
        },
        "id": "TQLk7RQvOHxJ",
        "outputId": "bf3d4b44-5c22-48fe-d6df-d36161000566"
      },
      "source": [
        "df"
      ],
      "execution_count": null,
      "outputs": [
        {
          "output_type": "execute_result",
          "data": {
            "text/html": [
              "<div>\n",
              "<style scoped>\n",
              "    .dataframe tbody tr th:only-of-type {\n",
              "        vertical-align: middle;\n",
              "    }\n",
              "\n",
              "    .dataframe tbody tr th {\n",
              "        vertical-align: top;\n",
              "    }\n",
              "\n",
              "    .dataframe thead th {\n",
              "        text-align: right;\n",
              "    }\n",
              "</style>\n",
              "<table border=\"1\" class=\"dataframe\">\n",
              "  <thead>\n",
              "    <tr style=\"text-align: right;\">\n",
              "      <th></th>\n",
              "      <th>0_caller</th>\n",
              "      <th>0_other</th>\n",
              "      <th>Rna_id</th>\n",
              "    </tr>\n",
              "  </thead>\n",
              "  <tbody>\n",
              "    <tr>\n",
              "      <th>0</th>\n",
              "      <td>UGAGGUAGUAGGUUGUAUAGUU</td>\n",
              "      <td>&gt;hsa-let-7a-5p MIMAT0000062 Homo sapiens let-7...</td>\n",
              "      <td>hsa-let-7a-5p</td>\n",
              "    </tr>\n",
              "    <tr>\n",
              "      <th>1</th>\n",
              "      <td>CUAUACAAUCUACUGUCUUUC</td>\n",
              "      <td>&gt;hsa-let-7a-3p MIMAT0004481 Homo sapiens let-7...</td>\n",
              "      <td>hsa-let-7a-3p</td>\n",
              "    </tr>\n",
              "    <tr>\n",
              "      <th>2</th>\n",
              "      <td>CUGUACAGCCUCCUAGCUUUCC</td>\n",
              "      <td>&gt;hsa-let-7a-2-3p MIMAT0010195 Homo sapiens let...</td>\n",
              "      <td>hsa-let-7a-2-3p</td>\n",
              "    </tr>\n",
              "    <tr>\n",
              "      <th>3</th>\n",
              "      <td>UGAGGUAGUAGGUUGUGUGGUU</td>\n",
              "      <td>&gt;hsa-let-7b-5p MIMAT0000063 Homo sapiens let-7...</td>\n",
              "      <td>hsa-let-7b-5p</td>\n",
              "    </tr>\n",
              "    <tr>\n",
              "      <th>4</th>\n",
              "      <td>CUAUACAACCUACUGCCUUCCC</td>\n",
              "      <td>&gt;hsa-let-7b-3p MIMAT0004482 Homo sapiens let-7...</td>\n",
              "      <td>hsa-let-7b-3p</td>\n",
              "    </tr>\n",
              "    <tr>\n",
              "      <th>...</th>\n",
              "      <td>...</td>\n",
              "      <td>...</td>\n",
              "      <td>...</td>\n",
              "    </tr>\n",
              "    <tr>\n",
              "      <th>2651</th>\n",
              "      <td>UUUGGAGAGGUGUACUCCCA</td>\n",
              "      <td>&gt;hsa-miR-12131 MIMAT0049025 Homo sapiens miR-1...</td>\n",
              "      <td>hsa-miR-12131</td>\n",
              "    </tr>\n",
              "    <tr>\n",
              "      <th>2652</th>\n",
              "      <td>UAUUACUGUGAGAAUUAUGAUG</td>\n",
              "      <td>&gt;hsa-miR-12132 MIMAT0049026 Homo sapiens miR-1...</td>\n",
              "      <td>hsa-miR-12132</td>\n",
              "    </tr>\n",
              "    <tr>\n",
              "      <th>2653</th>\n",
              "      <td>CUUGGCACCAUUAAAAAGUACA</td>\n",
              "      <td>&gt;hsa-miR-12133 MIMAT0049027 Homo sapiens miR-1...</td>\n",
              "      <td>hsa-miR-12133</td>\n",
              "    </tr>\n",
              "    <tr>\n",
              "      <th>2654</th>\n",
              "      <td>UAAAGGUUUGUUUGUAAA</td>\n",
              "      <td>&gt;hsa-miR-12135 MIMAT0049031 Homo sapiens miR-1...</td>\n",
              "      <td>hsa-miR-12135</td>\n",
              "    </tr>\n",
              "    <tr>\n",
              "      <th>2655</th>\n",
              "      <td>GAAAAAGUCAUGGAGGCC</td>\n",
              "      <td>&gt;hsa-miR-12136 MIMAT0049032 Homo sapiens miR-1...</td>\n",
              "      <td>hsa-miR-12136</td>\n",
              "    </tr>\n",
              "  </tbody>\n",
              "</table>\n",
              "<p>2656 rows × 3 columns</p>\n",
              "</div>"
            ],
            "text/plain": [
              "                    0_caller  ...           Rna_id\n",
              "0     UGAGGUAGUAGGUUGUAUAGUU  ...    hsa-let-7a-5p\n",
              "1      CUAUACAAUCUACUGUCUUUC  ...    hsa-let-7a-3p\n",
              "2     CUGUACAGCCUCCUAGCUUUCC  ...  hsa-let-7a-2-3p\n",
              "3     UGAGGUAGUAGGUUGUGUGGUU  ...    hsa-let-7b-5p\n",
              "4     CUAUACAACCUACUGCCUUCCC  ...    hsa-let-7b-3p\n",
              "...                      ...  ...              ...\n",
              "2651    UUUGGAGAGGUGUACUCCCA  ...    hsa-miR-12131\n",
              "2652  UAUUACUGUGAGAAUUAUGAUG  ...    hsa-miR-12132\n",
              "2653  CUUGGCACCAUUAAAAAGUACA  ...    hsa-miR-12133\n",
              "2654      UAAAGGUUUGUUUGUAAA  ...    hsa-miR-12135\n",
              "2655      GAAAAAGUCAUGGAGGCC  ...    hsa-miR-12136\n",
              "\n",
              "[2656 rows x 3 columns]"
            ]
          },
          "metadata": {
            "tags": []
          },
          "execution_count": 13
        }
      ]
    },
    {
      "cell_type": "code",
      "metadata": {
        "colab": {
          "base_uri": "https://localhost:8080/",
          "height": 35
        },
        "id": "tDS7cOquH70h",
        "outputId": "4ceffd30-1c39-4647-c0a8-086c8786e907"
      },
      "source": [
        "ss=df['0_caller'][1]\n",
        "ss"
      ],
      "execution_count": null,
      "outputs": [
        {
          "output_type": "execute_result",
          "data": {
            "application/vnd.google.colaboratory.intrinsic+json": {
              "type": "string"
            },
            "text/plain": [
              "'CUAUACAAUCUACUGUCUUUC'"
            ]
          },
          "metadata": {
            "tags": []
          },
          "execution_count": 14
        }
      ]
    },
    {
      "cell_type": "code",
      "metadata": {
        "id": "Kzgh3hw6abN6"
      },
      "source": [
        "df['new_se']=''"
      ],
      "execution_count": null,
      "outputs": []
    },
    {
      "cell_type": "code",
      "metadata": {
        "colab": {
          "base_uri": "https://localhost:8080/",
          "height": 415
        },
        "id": "2SeBdgMBawSY",
        "outputId": "9574811d-2649-4f2a-9540-981ed482268a"
      },
      "source": [
        "df"
      ],
      "execution_count": null,
      "outputs": [
        {
          "output_type": "execute_result",
          "data": {
            "text/html": [
              "<div>\n",
              "<style scoped>\n",
              "    .dataframe tbody tr th:only-of-type {\n",
              "        vertical-align: middle;\n",
              "    }\n",
              "\n",
              "    .dataframe tbody tr th {\n",
              "        vertical-align: top;\n",
              "    }\n",
              "\n",
              "    .dataframe thead th {\n",
              "        text-align: right;\n",
              "    }\n",
              "</style>\n",
              "<table border=\"1\" class=\"dataframe\">\n",
              "  <thead>\n",
              "    <tr style=\"text-align: right;\">\n",
              "      <th></th>\n",
              "      <th>0_caller</th>\n",
              "      <th>0_other</th>\n",
              "      <th>Rna_id</th>\n",
              "      <th>new_se</th>\n",
              "    </tr>\n",
              "  </thead>\n",
              "  <tbody>\n",
              "    <tr>\n",
              "      <th>0</th>\n",
              "      <td>UGAGGUAGUAGGUUGUAUAGUU</td>\n",
              "      <td>&gt;hsa-let-7a-5p MIMAT0000062 Homo sapiens let-7...</td>\n",
              "      <td>hsa-let-7a-5p</td>\n",
              "      <td></td>\n",
              "    </tr>\n",
              "    <tr>\n",
              "      <th>1</th>\n",
              "      <td>CUAUACAAUCUACUGUCUUUC</td>\n",
              "      <td>&gt;hsa-let-7a-3p MIMAT0004481 Homo sapiens let-7...</td>\n",
              "      <td>hsa-let-7a-3p</td>\n",
              "      <td></td>\n",
              "    </tr>\n",
              "    <tr>\n",
              "      <th>2</th>\n",
              "      <td>CUGUACAGCCUCCUAGCUUUCC</td>\n",
              "      <td>&gt;hsa-let-7a-2-3p MIMAT0010195 Homo sapiens let...</td>\n",
              "      <td>hsa-let-7a-2-3p</td>\n",
              "      <td></td>\n",
              "    </tr>\n",
              "    <tr>\n",
              "      <th>3</th>\n",
              "      <td>UGAGGUAGUAGGUUGUGUGGUU</td>\n",
              "      <td>&gt;hsa-let-7b-5p MIMAT0000063 Homo sapiens let-7...</td>\n",
              "      <td>hsa-let-7b-5p</td>\n",
              "      <td></td>\n",
              "    </tr>\n",
              "    <tr>\n",
              "      <th>4</th>\n",
              "      <td>CUAUACAACCUACUGCCUUCCC</td>\n",
              "      <td>&gt;hsa-let-7b-3p MIMAT0004482 Homo sapiens let-7...</td>\n",
              "      <td>hsa-let-7b-3p</td>\n",
              "      <td></td>\n",
              "    </tr>\n",
              "    <tr>\n",
              "      <th>...</th>\n",
              "      <td>...</td>\n",
              "      <td>...</td>\n",
              "      <td>...</td>\n",
              "      <td>...</td>\n",
              "    </tr>\n",
              "    <tr>\n",
              "      <th>2651</th>\n",
              "      <td>UUUGGAGAGGUGUACUCCCA</td>\n",
              "      <td>&gt;hsa-miR-12131 MIMAT0049025 Homo sapiens miR-1...</td>\n",
              "      <td>hsa-miR-12131</td>\n",
              "      <td></td>\n",
              "    </tr>\n",
              "    <tr>\n",
              "      <th>2652</th>\n",
              "      <td>UAUUACUGUGAGAAUUAUGAUG</td>\n",
              "      <td>&gt;hsa-miR-12132 MIMAT0049026 Homo sapiens miR-1...</td>\n",
              "      <td>hsa-miR-12132</td>\n",
              "      <td></td>\n",
              "    </tr>\n",
              "    <tr>\n",
              "      <th>2653</th>\n",
              "      <td>CUUGGCACCAUUAAAAAGUACA</td>\n",
              "      <td>&gt;hsa-miR-12133 MIMAT0049027 Homo sapiens miR-1...</td>\n",
              "      <td>hsa-miR-12133</td>\n",
              "      <td></td>\n",
              "    </tr>\n",
              "    <tr>\n",
              "      <th>2654</th>\n",
              "      <td>UAAAGGUUUGUUUGUAAA</td>\n",
              "      <td>&gt;hsa-miR-12135 MIMAT0049031 Homo sapiens miR-1...</td>\n",
              "      <td>hsa-miR-12135</td>\n",
              "      <td></td>\n",
              "    </tr>\n",
              "    <tr>\n",
              "      <th>2655</th>\n",
              "      <td>GAAAAAGUCAUGGAGGCC</td>\n",
              "      <td>&gt;hsa-miR-12136 MIMAT0049032 Homo sapiens miR-1...</td>\n",
              "      <td>hsa-miR-12136</td>\n",
              "      <td></td>\n",
              "    </tr>\n",
              "  </tbody>\n",
              "</table>\n",
              "<p>2656 rows × 4 columns</p>\n",
              "</div>"
            ],
            "text/plain": [
              "                    0_caller  ... new_se\n",
              "0     UGAGGUAGUAGGUUGUAUAGUU  ...       \n",
              "1      CUAUACAAUCUACUGUCUUUC  ...       \n",
              "2     CUGUACAGCCUCCUAGCUUUCC  ...       \n",
              "3     UGAGGUAGUAGGUUGUGUGGUU  ...       \n",
              "4     CUAUACAACCUACUGCCUUCCC  ...       \n",
              "...                      ...  ...    ...\n",
              "2651    UUUGGAGAGGUGUACUCCCA  ...       \n",
              "2652  UAUUACUGUGAGAAUUAUGAUG  ...       \n",
              "2653  CUUGGCACCAUUAAAAAGUACA  ...       \n",
              "2654      UAAAGGUUUGUUUGUAAA  ...       \n",
              "2655      GAAAAAGUCAUGGAGGCC  ...       \n",
              "\n",
              "[2656 rows x 4 columns]"
            ]
          },
          "metadata": {
            "tags": []
          },
          "execution_count": 16
        }
      ]
    },
    {
      "cell_type": "code",
      "metadata": {
        "id": "hIjmKvriVVhm"
      },
      "source": [
        "\n",
        "for j in range(0,len(df['0_caller'])):\n",
        "  ss=df['0_caller'][j]\n",
        "  new=\"\"\n",
        "  for i in range(0,len(ss)):\n",
        "   if ss[i]=='A':\n",
        "      new +='U'\n",
        "   else:\n",
        "     if ss[i]=='C':\n",
        "          new +='G'\n",
        "     else: \n",
        "        if ss[i]=='U':\n",
        "            new +='A'\n",
        "        else:\n",
        "          if ss[i]=='G':\n",
        "              new +='C'\n",
        "\n",
        "  df['new_se'][j]=new\n",
        "                "
      ],
      "execution_count": null,
      "outputs": []
    },
    {
      "cell_type": "code",
      "metadata": {
        "colab": {
          "base_uri": "https://localhost:8080/"
        },
        "id": "RjHNJqeoX1xa",
        "outputId": "5e754ecf-4d48-4826-be92-61a66f95d035"
      },
      "source": [
        "df['new_se']"
      ],
      "execution_count": null,
      "outputs": [
        {
          "output_type": "execute_result",
          "data": {
            "text/plain": [
              "0       ACUCCAUCAUCCAACAUAUCAA\n",
              "1        GAUAUGUUAGAUGACAGAAAG\n",
              "2       GACAUGUCGGAGGAUCGAAAGG\n",
              "3       ACUCCAUCAUCCAACACACCAA\n",
              "4       GAUAUGUUGGAUGACGGAAGGG\n",
              "                 ...          \n",
              "2651      AAACCUCUCCACAUGAGGGU\n",
              "2652    AUAAUGACACUCUUAAUACUAC\n",
              "2653    GAACCGUGGUAAUUUUUCAUGU\n",
              "2654        AUUUCCAAACAAACAUUU\n",
              "2655        CUUUUUCAGUACCUCCGG\n",
              "Name: new_se, Length: 2656, dtype: object"
            ]
          },
          "metadata": {
            "tags": []
          },
          "execution_count": 18
        }
      ]
    },
    {
      "cell_type": "code",
      "metadata": {
        "colab": {
          "base_uri": "https://localhost:8080/"
        },
        "id": "oTkaOhG5OOxG",
        "outputId": "6b811202-380e-4741-c678-99182214a4b4"
      },
      "source": [
        "all_data = pd.read_csv('all_data.csv')"
      ],
      "execution_count": null,
      "outputs": [
        {
          "output_type": "stream",
          "text": [
            "/usr/local/lib/python3.7/dist-packages/IPython/core/interactiveshell.py:2718: DtypeWarning: Columns (0,1,2,3,4,5,7) have mixed types.Specify dtype option on import or set low_memory=False.\n",
            "  interactivity=interactivity, compiler=compiler, result=result)\n"
          ],
          "name": "stderr"
        }
      ]
    },
    {
      "cell_type": "code",
      "metadata": {
        "colab": {
          "base_uri": "https://localhost:8080/",
          "height": 799
        },
        "id": "WvYM9o1iOa82",
        "outputId": "4d345045-ba4f-491a-8ec9-ec8a3f731429"
      },
      "source": [
        "all_data"
      ],
      "execution_count": null,
      "outputs": [
        {
          "output_type": "execute_result",
          "data": {
            "text/html": [
              "<div>\n",
              "<style scoped>\n",
              "    .dataframe tbody tr th:only-of-type {\n",
              "        vertical-align: middle;\n",
              "    }\n",
              "\n",
              "    .dataframe tbody tr th {\n",
              "        vertical-align: top;\n",
              "    }\n",
              "\n",
              "    .dataframe thead th {\n",
              "        text-align: right;\n",
              "    }\n",
              "</style>\n",
              "<table border=\"1\" class=\"dataframe\">\n",
              "  <thead>\n",
              "    <tr style=\"text-align: right;\">\n",
              "      <th></th>\n",
              "      <th>ncRNA Symbol</th>\n",
              "      <th>ncRNA Category</th>\n",
              "      <th>Species</th>\n",
              "      <th>Disease Name</th>\n",
              "      <th>Sample</th>\n",
              "      <th>Dysfunction Pattern</th>\n",
              "      <th>Validated Method/Prediction Method</th>\n",
              "      <th>Description</th>\n",
              "      <th>PubMed ID;</th>\n",
              "    </tr>\n",
              "  </thead>\n",
              "  <tbody>\n",
              "    <tr>\n",
              "      <th>0</th>\n",
              "      <td>hsa-let-7a</td>\n",
              "      <td>lncRNA</td>\n",
              "      <td>Homo sapiens</td>\n",
              "      <td>acute myeloid leukemia</td>\n",
              "      <td>NaN</td>\n",
              "      <td>Regulation [up-regulated]</td>\n",
              "      <td>NaN</td>\n",
              "      <td>Inducing Apoptosis and Decreasing Cell Prolife...</td>\n",
              "      <td>N/A;</td>\n",
              "    </tr>\n",
              "    <tr>\n",
              "      <th>1</th>\n",
              "      <td>hsa-let-7a,lncRNA,Homo sapiens,acute myeloid l...</td>\n",
              "      <td>NaN</td>\n",
              "      <td>NaN</td>\n",
              "      <td>NaN</td>\n",
              "      <td>NaN</td>\n",
              "      <td>NaN</td>\n",
              "      <td>NaN</td>\n",
              "      <td>NaN</td>\n",
              "      <td>NaN</td>\n",
              "    </tr>\n",
              "    <tr>\n",
              "      <th>2</th>\n",
              "      <td>hsa-let-7a</td>\n",
              "      <td>lncRNA</td>\n",
              "      <td>Homo sapiens</td>\n",
              "      <td>breast cancer</td>\n",
              "      <td>NaN</td>\n",
              "      <td>Regulation [down-regulated]</td>\n",
              "      <td>NaN</td>\n",
              "      <td>Let-7a mimic attenuates CCL18 induced breast c...</td>\n",
              "      <td>N/A;</td>\n",
              "    </tr>\n",
              "    <tr>\n",
              "      <th>3</th>\n",
              "      <td>hsa-let-7a</td>\n",
              "      <td>lncRNA</td>\n",
              "      <td>Homo sapiens</td>\n",
              "      <td>breast cancer</td>\n",
              "      <td>NaN</td>\n",
              "      <td>Regulation [down-regulated]</td>\n",
              "      <td>NaN</td>\n",
              "      <td>MicroRNA let-7a suppresses breast cancer cell ...</td>\n",
              "      <td>N/A;</td>\n",
              "    </tr>\n",
              "    <tr>\n",
              "      <th>4</th>\n",
              "      <td>hsa-let-7a</td>\n",
              "      <td>lncRNA</td>\n",
              "      <td>Homo sapiens</td>\n",
              "      <td>breast cancer</td>\n",
              "      <td>NaN</td>\n",
              "      <td>Regulation [down-regulated]</td>\n",
              "      <td>NaN</td>\n",
              "      <td>The heterochronic microRNA let-7 inhibits cell...</td>\n",
              "      <td>N/A;</td>\n",
              "    </tr>\n",
              "    <tr>\n",
              "      <th>...</th>\n",
              "      <td>...</td>\n",
              "      <td>...</td>\n",
              "      <td>...</td>\n",
              "      <td>...</td>\n",
              "      <td>...</td>\n",
              "      <td>...</td>\n",
              "      <td>...</td>\n",
              "      <td>...</td>\n",
              "      <td>...</td>\n",
              "    </tr>\n",
              "    <tr>\n",
              "      <th>206956</th>\n",
              "      <td>NaN</td>\n",
              "      <td>NaN</td>\n",
              "      <td>NaN</td>\n",
              "      <td>NaN</td>\n",
              "      <td>NaN</td>\n",
              "      <td>NaN</td>\n",
              "      <td>NaN</td>\n",
              "      <td>NaN</td>\n",
              "      <td>N/A;</td>\n",
              "    </tr>\n",
              "    <tr>\n",
              "      <th>206957</th>\n",
              "      <td>NaN</td>\n",
              "      <td>NaN</td>\n",
              "      <td>NaN</td>\n",
              "      <td>NaN</td>\n",
              "      <td>NaN</td>\n",
              "      <td>NaN</td>\n",
              "      <td>NaN</td>\n",
              "      <td>NaN</td>\n",
              "      <td>N/A;</td>\n",
              "    </tr>\n",
              "    <tr>\n",
              "      <th>206958</th>\n",
              "      <td>NaN</td>\n",
              "      <td>NaN</td>\n",
              "      <td>NaN</td>\n",
              "      <td>NaN</td>\n",
              "      <td>NaN</td>\n",
              "      <td>NaN</td>\n",
              "      <td>NaN</td>\n",
              "      <td>NaN</td>\n",
              "      <td>N/A;</td>\n",
              "    </tr>\n",
              "    <tr>\n",
              "      <th>206959</th>\n",
              "      <td>NaN</td>\n",
              "      <td>NaN</td>\n",
              "      <td>NaN</td>\n",
              "      <td>NaN</td>\n",
              "      <td>NaN</td>\n",
              "      <td>NaN</td>\n",
              "      <td>NaN</td>\n",
              "      <td>NaN</td>\n",
              "      <td>N/A;</td>\n",
              "    </tr>\n",
              "    <tr>\n",
              "      <th>206960</th>\n",
              "      <td>NaN</td>\n",
              "      <td>NaN</td>\n",
              "      <td>NaN</td>\n",
              "      <td>NaN</td>\n",
              "      <td>NaN</td>\n",
              "      <td>NaN</td>\n",
              "      <td>NaN</td>\n",
              "      <td>NaN</td>\n",
              "      <td>N/A;</td>\n",
              "    </tr>\n",
              "  </tbody>\n",
              "</table>\n",
              "<p>206961 rows × 9 columns</p>\n",
              "</div>"
            ],
            "text/plain": [
              "                                             ncRNA Symbol  ... PubMed ID;\n",
              "0                                              hsa-let-7a  ...       N/A;\n",
              "1       hsa-let-7a,lncRNA,Homo sapiens,acute myeloid l...  ...        NaN\n",
              "2                                              hsa-let-7a  ...       N/A;\n",
              "3                                              hsa-let-7a  ...       N/A;\n",
              "4                                              hsa-let-7a  ...       N/A;\n",
              "...                                                   ...  ...        ...\n",
              "206956                                                NaN  ...       N/A;\n",
              "206957                                                NaN  ...       N/A;\n",
              "206958                                                NaN  ...       N/A;\n",
              "206959                                                NaN  ...       N/A;\n",
              "206960                                                NaN  ...       N/A;\n",
              "\n",
              "[206961 rows x 9 columns]"
            ]
          },
          "metadata": {
            "tags": []
          },
          "execution_count": 20
        }
      ]
    },
    {
      "cell_type": "code",
      "metadata": {
        "colab": {
          "base_uri": "https://localhost:8080/"
        },
        "id": "s474RmxtOcuy",
        "outputId": "2bd14894-d66b-49f6-cde3-a971191a6896"
      },
      "source": [
        "# the number of Nan values \n",
        "all_data['ncRNA Symbol'].isna().sum()"
      ],
      "execution_count": null,
      "outputs": [
        {
          "output_type": "execute_result",
          "data": {
            "text/plain": [
              "149301"
            ]
          },
          "metadata": {
            "tags": []
          },
          "execution_count": 21
        }
      ]
    },
    {
      "cell_type": "code",
      "metadata": {
        "colab": {
          "base_uri": "https://localhost:8080/"
        },
        "id": "Wme_aczCOiRN",
        "outputId": "9a414308-f91b-4c6c-8465-3d3e66a76fb3"
      },
      "source": [
        "#unique elements in ncRNA symbol\n",
        "all_data['ncRNA Symbol'].unique()"
      ],
      "execution_count": null,
      "outputs": [
        {
          "output_type": "execute_result",
          "data": {
            "text/plain": [
              "array(['hsa-let-7a',\n",
              "       'hsa-let-7a,lncRNA,Homo sapiens,acute myeloid leukemia,N/A,Regulation [up-regulated],N/A,\"Deregulation of miR-1, miR486, and let-7a in cytogenetically normal acute myeloid leukemia: association with NPM1 and FLT3 mutation and clinical characteristics.\",N/A;',\n",
              "       'hsa-let-7a,lncRNA,Homo sapiens,glioma,N/A,Regulation [down-regulated],N/A,\"Overexpressed let-7a inhibits glioma cell malignancy by directly targeting K-ras, independently of PTEN.\",N/A;',\n",
              "       ...,\n",
              "       'hsa-miR-375,lncRNA,Homo sapiens,gastric cancer,\"subtype1: Helicobacter  pylori-positive cancer,  subtype2: Helicobacter pylori-negative cancer \",Regulation [down-regulated],N/A,N/A,N/A;',\n",
              "       'hsa-miR-548c-3p,lncRNA,Homo sapiens,gastric cancer,\"subtype1: Helicobacter  pylori-positive cancer,  subtype2: Helicobacter pylori-negative cancer \",Regulation [down-regulated],N/A,N/A,N/A;',\n",
              "       nan], dtype=object)"
            ]
          },
          "metadata": {
            "tags": []
          },
          "execution_count": 22
        }
      ]
    },
    {
      "cell_type": "code",
      "metadata": {
        "id": "tM5SJ97OOmTo"
      },
      "source": [
        "# we take just symbols that we have their ID and drop Nan values\n",
        "all_data = all_data[all_data['ncRNA Symbol'].notna()]\n"
      ],
      "execution_count": null,
      "outputs": []
    },
    {
      "cell_type": "code",
      "metadata": {
        "colab": {
          "base_uri": "https://localhost:8080/",
          "height": 1000
        },
        "id": "PXpkbTzCOw1H",
        "outputId": "f1c0263c-14d4-44f6-ecac-956b6fa4911e"
      },
      "source": [
        "all_data"
      ],
      "execution_count": null,
      "outputs": [
        {
          "output_type": "execute_result",
          "data": {
            "text/html": [
              "<div>\n",
              "<style scoped>\n",
              "    .dataframe tbody tr th:only-of-type {\n",
              "        vertical-align: middle;\n",
              "    }\n",
              "\n",
              "    .dataframe tbody tr th {\n",
              "        vertical-align: top;\n",
              "    }\n",
              "\n",
              "    .dataframe thead th {\n",
              "        text-align: right;\n",
              "    }\n",
              "</style>\n",
              "<table border=\"1\" class=\"dataframe\">\n",
              "  <thead>\n",
              "    <tr style=\"text-align: right;\">\n",
              "      <th></th>\n",
              "      <th>ncRNA Symbol</th>\n",
              "      <th>ncRNA Category</th>\n",
              "      <th>Species</th>\n",
              "      <th>Disease Name</th>\n",
              "      <th>Sample</th>\n",
              "      <th>Dysfunction Pattern</th>\n",
              "      <th>Validated Method/Prediction Method</th>\n",
              "      <th>Description</th>\n",
              "      <th>PubMed ID;</th>\n",
              "    </tr>\n",
              "  </thead>\n",
              "  <tbody>\n",
              "    <tr>\n",
              "      <th>0</th>\n",
              "      <td>hsa-let-7a</td>\n",
              "      <td>lncRNA</td>\n",
              "      <td>Homo sapiens</td>\n",
              "      <td>acute myeloid leukemia</td>\n",
              "      <td>NaN</td>\n",
              "      <td>Regulation [up-regulated]</td>\n",
              "      <td>NaN</td>\n",
              "      <td>Inducing Apoptosis and Decreasing Cell Prolife...</td>\n",
              "      <td>N/A;</td>\n",
              "    </tr>\n",
              "    <tr>\n",
              "      <th>1</th>\n",
              "      <td>hsa-let-7a,lncRNA,Homo sapiens,acute myeloid l...</td>\n",
              "      <td>NaN</td>\n",
              "      <td>NaN</td>\n",
              "      <td>NaN</td>\n",
              "      <td>NaN</td>\n",
              "      <td>NaN</td>\n",
              "      <td>NaN</td>\n",
              "      <td>NaN</td>\n",
              "      <td>NaN</td>\n",
              "    </tr>\n",
              "    <tr>\n",
              "      <th>2</th>\n",
              "      <td>hsa-let-7a</td>\n",
              "      <td>lncRNA</td>\n",
              "      <td>Homo sapiens</td>\n",
              "      <td>breast cancer</td>\n",
              "      <td>NaN</td>\n",
              "      <td>Regulation [down-regulated]</td>\n",
              "      <td>NaN</td>\n",
              "      <td>Let-7a mimic attenuates CCL18 induced breast c...</td>\n",
              "      <td>N/A;</td>\n",
              "    </tr>\n",
              "    <tr>\n",
              "      <th>3</th>\n",
              "      <td>hsa-let-7a</td>\n",
              "      <td>lncRNA</td>\n",
              "      <td>Homo sapiens</td>\n",
              "      <td>breast cancer</td>\n",
              "      <td>NaN</td>\n",
              "      <td>Regulation [down-regulated]</td>\n",
              "      <td>NaN</td>\n",
              "      <td>MicroRNA let-7a suppresses breast cancer cell ...</td>\n",
              "      <td>N/A;</td>\n",
              "    </tr>\n",
              "    <tr>\n",
              "      <th>4</th>\n",
              "      <td>hsa-let-7a</td>\n",
              "      <td>lncRNA</td>\n",
              "      <td>Homo sapiens</td>\n",
              "      <td>breast cancer</td>\n",
              "      <td>NaN</td>\n",
              "      <td>Regulation [down-regulated]</td>\n",
              "      <td>NaN</td>\n",
              "      <td>The heterochronic microRNA let-7 inhibits cell...</td>\n",
              "      <td>N/A;</td>\n",
              "    </tr>\n",
              "    <tr>\n",
              "      <th>...</th>\n",
              "      <td>...</td>\n",
              "      <td>...</td>\n",
              "      <td>...</td>\n",
              "      <td>...</td>\n",
              "      <td>...</td>\n",
              "      <td>...</td>\n",
              "      <td>...</td>\n",
              "      <td>...</td>\n",
              "      <td>...</td>\n",
              "    </tr>\n",
              "    <tr>\n",
              "      <th>57655</th>\n",
              "      <td>hsa-miR-204-5p,lncRNA,Homo sapiens,gastric can...</td>\n",
              "      <td>NaN</td>\n",
              "      <td>NaN</td>\n",
              "      <td>NaN</td>\n",
              "      <td>NaN</td>\n",
              "      <td>NaN</td>\n",
              "      <td>NaN</td>\n",
              "      <td>NaN</td>\n",
              "      <td>NaN</td>\n",
              "    </tr>\n",
              "    <tr>\n",
              "      <th>57656</th>\n",
              "      <td>hsa-miR-338-5p,lncRNA,Homo sapiens,gastric can...</td>\n",
              "      <td>NaN</td>\n",
              "      <td>NaN</td>\n",
              "      <td>NaN</td>\n",
              "      <td>NaN</td>\n",
              "      <td>NaN</td>\n",
              "      <td>NaN</td>\n",
              "      <td>NaN</td>\n",
              "      <td>NaN</td>\n",
              "    </tr>\n",
              "    <tr>\n",
              "      <th>57657</th>\n",
              "      <td>hsa-miR-375,lncRNA,Homo sapiens,gastric cancer...</td>\n",
              "      <td>NaN</td>\n",
              "      <td>NaN</td>\n",
              "      <td>NaN</td>\n",
              "      <td>NaN</td>\n",
              "      <td>NaN</td>\n",
              "      <td>NaN</td>\n",
              "      <td>NaN</td>\n",
              "      <td>NaN</td>\n",
              "    </tr>\n",
              "    <tr>\n",
              "      <th>57658</th>\n",
              "      <td>hsa-miR-548c-3p,lncRNA,Homo sapiens,gastric ca...</td>\n",
              "      <td>NaN</td>\n",
              "      <td>NaN</td>\n",
              "      <td>NaN</td>\n",
              "      <td>NaN</td>\n",
              "      <td>NaN</td>\n",
              "      <td>NaN</td>\n",
              "      <td>NaN</td>\n",
              "      <td>NaN</td>\n",
              "    </tr>\n",
              "    <tr>\n",
              "      <th>57659</th>\n",
              "      <td>hsa-miR-15a</td>\n",
              "      <td>lncRNA</td>\n",
              "      <td>NaN</td>\n",
              "      <td>breast cancer</td>\n",
              "      <td>NaN</td>\n",
              "      <td>NaN</td>\n",
              "      <td>NaN</td>\n",
              "      <td>NaN</td>\n",
              "      <td>N/A;</td>\n",
              "    </tr>\n",
              "  </tbody>\n",
              "</table>\n",
              "<p>57660 rows × 9 columns</p>\n",
              "</div>"
            ],
            "text/plain": [
              "                                            ncRNA Symbol  ... PubMed ID;\n",
              "0                                             hsa-let-7a  ...       N/A;\n",
              "1      hsa-let-7a,lncRNA,Homo sapiens,acute myeloid l...  ...        NaN\n",
              "2                                             hsa-let-7a  ...       N/A;\n",
              "3                                             hsa-let-7a  ...       N/A;\n",
              "4                                             hsa-let-7a  ...       N/A;\n",
              "...                                                  ...  ...        ...\n",
              "57655  hsa-miR-204-5p,lncRNA,Homo sapiens,gastric can...  ...        NaN\n",
              "57656  hsa-miR-338-5p,lncRNA,Homo sapiens,gastric can...  ...        NaN\n",
              "57657  hsa-miR-375,lncRNA,Homo sapiens,gastric cancer...  ...        NaN\n",
              "57658  hsa-miR-548c-3p,lncRNA,Homo sapiens,gastric ca...  ...        NaN\n",
              "57659                                        hsa-miR-15a  ...       N/A;\n",
              "\n",
              "[57660 rows x 9 columns]"
            ]
          },
          "metadata": {
            "tags": []
          },
          "execution_count": 24
        }
      ]
    },
    {
      "cell_type": "code",
      "metadata": {
        "id": "LNk6k5LJOzuh"
      },
      "source": [
        "# the same thing for Disease Names our two important columns that we wll apply our model on them \n",
        "all_data = all_data[all_data['Disease Name'].notna()]"
      ],
      "execution_count": null,
      "outputs": []
    },
    {
      "cell_type": "code",
      "metadata": {
        "colab": {
          "base_uri": "https://localhost:8080/",
          "height": 1000
        },
        "id": "RUa7aFFsO_2P",
        "outputId": "77373be4-5725-4095-9ade-69bfd8eee9f6"
      },
      "source": [
        "all_data"
      ],
      "execution_count": null,
      "outputs": [
        {
          "output_type": "execute_result",
          "data": {
            "text/html": [
              "<div>\n",
              "<style scoped>\n",
              "    .dataframe tbody tr th:only-of-type {\n",
              "        vertical-align: middle;\n",
              "    }\n",
              "\n",
              "    .dataframe tbody tr th {\n",
              "        vertical-align: top;\n",
              "    }\n",
              "\n",
              "    .dataframe thead th {\n",
              "        text-align: right;\n",
              "    }\n",
              "</style>\n",
              "<table border=\"1\" class=\"dataframe\">\n",
              "  <thead>\n",
              "    <tr style=\"text-align: right;\">\n",
              "      <th></th>\n",
              "      <th>ncRNA Symbol</th>\n",
              "      <th>ncRNA Category</th>\n",
              "      <th>Species</th>\n",
              "      <th>Disease Name</th>\n",
              "      <th>Sample</th>\n",
              "      <th>Dysfunction Pattern</th>\n",
              "      <th>Validated Method/Prediction Method</th>\n",
              "      <th>Description</th>\n",
              "      <th>PubMed ID;</th>\n",
              "    </tr>\n",
              "  </thead>\n",
              "  <tbody>\n",
              "    <tr>\n",
              "      <th>0</th>\n",
              "      <td>hsa-let-7a</td>\n",
              "      <td>lncRNA</td>\n",
              "      <td>Homo sapiens</td>\n",
              "      <td>acute myeloid leukemia</td>\n",
              "      <td>NaN</td>\n",
              "      <td>Regulation [up-regulated]</td>\n",
              "      <td>NaN</td>\n",
              "      <td>Inducing Apoptosis and Decreasing Cell Prolife...</td>\n",
              "      <td>N/A;</td>\n",
              "    </tr>\n",
              "    <tr>\n",
              "      <th>2</th>\n",
              "      <td>hsa-let-7a</td>\n",
              "      <td>lncRNA</td>\n",
              "      <td>Homo sapiens</td>\n",
              "      <td>breast cancer</td>\n",
              "      <td>NaN</td>\n",
              "      <td>Regulation [down-regulated]</td>\n",
              "      <td>NaN</td>\n",
              "      <td>Let-7a mimic attenuates CCL18 induced breast c...</td>\n",
              "      <td>N/A;</td>\n",
              "    </tr>\n",
              "    <tr>\n",
              "      <th>3</th>\n",
              "      <td>hsa-let-7a</td>\n",
              "      <td>lncRNA</td>\n",
              "      <td>Homo sapiens</td>\n",
              "      <td>breast cancer</td>\n",
              "      <td>NaN</td>\n",
              "      <td>Regulation [down-regulated]</td>\n",
              "      <td>NaN</td>\n",
              "      <td>MicroRNA let-7a suppresses breast cancer cell ...</td>\n",
              "      <td>N/A;</td>\n",
              "    </tr>\n",
              "    <tr>\n",
              "      <th>4</th>\n",
              "      <td>hsa-let-7a</td>\n",
              "      <td>lncRNA</td>\n",
              "      <td>Homo sapiens</td>\n",
              "      <td>breast cancer</td>\n",
              "      <td>NaN</td>\n",
              "      <td>Regulation [down-regulated]</td>\n",
              "      <td>NaN</td>\n",
              "      <td>The heterochronic microRNA let-7 inhibits cell...</td>\n",
              "      <td>N/A;</td>\n",
              "    </tr>\n",
              "    <tr>\n",
              "      <th>5</th>\n",
              "      <td>hsa-let-7a</td>\n",
              "      <td>lncRNA</td>\n",
              "      <td>Homo sapiens</td>\n",
              "      <td>breast cancer</td>\n",
              "      <td>NaN</td>\n",
              "      <td>Regulation [down-regulated]</td>\n",
              "      <td>NaN</td>\n",
              "      <td>Lin28 induces epithelial-to-mesenchymal transi...</td>\n",
              "      <td>N/A;</td>\n",
              "    </tr>\n",
              "    <tr>\n",
              "      <th>...</th>\n",
              "      <td>...</td>\n",
              "      <td>...</td>\n",
              "      <td>...</td>\n",
              "      <td>...</td>\n",
              "      <td>...</td>\n",
              "      <td>...</td>\n",
              "      <td>...</td>\n",
              "      <td>...</td>\n",
              "      <td>...</td>\n",
              "    </tr>\n",
              "    <tr>\n",
              "      <th>57647</th>\n",
              "      <td>hsa-miR-574-3p</td>\n",
              "      <td>lncRNA</td>\n",
              "      <td>Homo sapiens</td>\n",
              "      <td>sarcoma</td>\n",
              "      <td>osteosarcoma</td>\n",
              "      <td>Regulation [up-regulated]</td>\n",
              "      <td>NaN</td>\n",
              "      <td>NaN</td>\n",
              "      <td>N/A;</td>\n",
              "    </tr>\n",
              "    <tr>\n",
              "      <th>57649</th>\n",
              "      <td>hsa-miR-21</td>\n",
              "      <td>lncRNA</td>\n",
              "      <td>Homo sapiens</td>\n",
              "      <td>pancreatic cancer</td>\n",
              "      <td>pancreatic ductal adenocarcinoma (PDAC)</td>\n",
              "      <td>Regulation [up-regulated]</td>\n",
              "      <td>NaN</td>\n",
              "      <td>NaN</td>\n",
              "      <td>N/A;</td>\n",
              "    </tr>\n",
              "    <tr>\n",
              "      <th>57650</th>\n",
              "      <td>hsa-miR-23a</td>\n",
              "      <td>lncRNA</td>\n",
              "      <td>Homo sapiens</td>\n",
              "      <td>pancreatic cancer</td>\n",
              "      <td>pancreatic ductal adenocarcinoma (PDAC)</td>\n",
              "      <td>Regulation [up-regulated]</td>\n",
              "      <td>NaN</td>\n",
              "      <td>NaN</td>\n",
              "      <td>N/A;</td>\n",
              "    </tr>\n",
              "    <tr>\n",
              "      <th>57651</th>\n",
              "      <td>hsa-miR-27a</td>\n",
              "      <td>lncRNA</td>\n",
              "      <td>Homo sapiens</td>\n",
              "      <td>pancreatic cancer</td>\n",
              "      <td>pancreatic ductal adenocarcinoma (PDAC)</td>\n",
              "      <td>Regulation [up-regulated]</td>\n",
              "      <td>NaN</td>\n",
              "      <td>NaN</td>\n",
              "      <td>N/A;</td>\n",
              "    </tr>\n",
              "    <tr>\n",
              "      <th>57659</th>\n",
              "      <td>hsa-miR-15a</td>\n",
              "      <td>lncRNA</td>\n",
              "      <td>NaN</td>\n",
              "      <td>breast cancer</td>\n",
              "      <td>NaN</td>\n",
              "      <td>NaN</td>\n",
              "      <td>NaN</td>\n",
              "      <td>NaN</td>\n",
              "      <td>N/A;</td>\n",
              "    </tr>\n",
              "  </tbody>\n",
              "</table>\n",
              "<p>56622 rows × 9 columns</p>\n",
              "</div>"
            ],
            "text/plain": [
              "         ncRNA Symbol  ... PubMed ID;\n",
              "0          hsa-let-7a  ...       N/A;\n",
              "2          hsa-let-7a  ...       N/A;\n",
              "3          hsa-let-7a  ...       N/A;\n",
              "4          hsa-let-7a  ...       N/A;\n",
              "5          hsa-let-7a  ...       N/A;\n",
              "...               ...  ...        ...\n",
              "57647  hsa-miR-574-3p  ...       N/A;\n",
              "57649      hsa-miR-21  ...       N/A;\n",
              "57650     hsa-miR-23a  ...       N/A;\n",
              "57651     hsa-miR-27a  ...       N/A;\n",
              "57659     hsa-miR-15a  ...       N/A;\n",
              "\n",
              "[56622 rows x 9 columns]"
            ]
          },
          "metadata": {
            "tags": []
          },
          "execution_count": 26
        }
      ]
    },
    {
      "cell_type": "code",
      "metadata": {
        "colab": {
          "base_uri": "https://localhost:8080/"
        },
        "id": "RbzhwgdGPBMO",
        "outputId": "802c1640-d159-4907-fcc0-27a4f89d1265"
      },
      "source": [
        "all_data['ncRNA Symbol'].isna().sum()"
      ],
      "execution_count": null,
      "outputs": [
        {
          "output_type": "execute_result",
          "data": {
            "text/plain": [
              "0"
            ]
          },
          "metadata": {
            "tags": []
          },
          "execution_count": 27
        }
      ]
    },
    {
      "cell_type": "code",
      "metadata": {
        "id": "TvZvd0mmPInY",
        "colab": {
          "base_uri": "https://localhost:8080/"
        },
        "outputId": "eb566418-9e19-486d-ce4a-02cb0b3ff90e"
      },
      "source": [
        "# get just the Id from ncRNA symbol because they contains others text and puth it in new columns Rna_id\n",
        "all_data['Rna_id']=all_data['ncRNA Symbol'].apply( lambda x :  x.split(',')[0])"
      ],
      "execution_count": null,
      "outputs": [
        {
          "output_type": "stream",
          "text": [
            "/usr/local/lib/python3.7/dist-packages/ipykernel_launcher.py:2: SettingWithCopyWarning: \n",
            "A value is trying to be set on a copy of a slice from a DataFrame.\n",
            "Try using .loc[row_indexer,col_indexer] = value instead\n",
            "\n",
            "See the caveats in the documentation: https://pandas.pydata.org/pandas-docs/stable/user_guide/indexing.html#returning-a-view-versus-a-copy\n",
            "  \n"
          ],
          "name": "stderr"
        }
      ]
    },
    {
      "cell_type": "code",
      "metadata": {
        "colab": {
          "base_uri": "https://localhost:8080/",
          "height": 1000
        },
        "id": "4isqYhqTPS60",
        "outputId": "bb6e01e2-4214-46ff-9554-c3ffc10e09cf"
      },
      "source": [
        "all_data"
      ],
      "execution_count": null,
      "outputs": [
        {
          "output_type": "execute_result",
          "data": {
            "text/html": [
              "<div>\n",
              "<style scoped>\n",
              "    .dataframe tbody tr th:only-of-type {\n",
              "        vertical-align: middle;\n",
              "    }\n",
              "\n",
              "    .dataframe tbody tr th {\n",
              "        vertical-align: top;\n",
              "    }\n",
              "\n",
              "    .dataframe thead th {\n",
              "        text-align: right;\n",
              "    }\n",
              "</style>\n",
              "<table border=\"1\" class=\"dataframe\">\n",
              "  <thead>\n",
              "    <tr style=\"text-align: right;\">\n",
              "      <th></th>\n",
              "      <th>ncRNA Symbol</th>\n",
              "      <th>ncRNA Category</th>\n",
              "      <th>Species</th>\n",
              "      <th>Disease Name</th>\n",
              "      <th>Sample</th>\n",
              "      <th>Dysfunction Pattern</th>\n",
              "      <th>Validated Method/Prediction Method</th>\n",
              "      <th>Description</th>\n",
              "      <th>PubMed ID;</th>\n",
              "      <th>Rna_id</th>\n",
              "    </tr>\n",
              "  </thead>\n",
              "  <tbody>\n",
              "    <tr>\n",
              "      <th>0</th>\n",
              "      <td>hsa-let-7a</td>\n",
              "      <td>lncRNA</td>\n",
              "      <td>Homo sapiens</td>\n",
              "      <td>acute myeloid leukemia</td>\n",
              "      <td>NaN</td>\n",
              "      <td>Regulation [up-regulated]</td>\n",
              "      <td>NaN</td>\n",
              "      <td>Inducing Apoptosis and Decreasing Cell Prolife...</td>\n",
              "      <td>N/A;</td>\n",
              "      <td>hsa-let-7a</td>\n",
              "    </tr>\n",
              "    <tr>\n",
              "      <th>2</th>\n",
              "      <td>hsa-let-7a</td>\n",
              "      <td>lncRNA</td>\n",
              "      <td>Homo sapiens</td>\n",
              "      <td>breast cancer</td>\n",
              "      <td>NaN</td>\n",
              "      <td>Regulation [down-regulated]</td>\n",
              "      <td>NaN</td>\n",
              "      <td>Let-7a mimic attenuates CCL18 induced breast c...</td>\n",
              "      <td>N/A;</td>\n",
              "      <td>hsa-let-7a</td>\n",
              "    </tr>\n",
              "    <tr>\n",
              "      <th>3</th>\n",
              "      <td>hsa-let-7a</td>\n",
              "      <td>lncRNA</td>\n",
              "      <td>Homo sapiens</td>\n",
              "      <td>breast cancer</td>\n",
              "      <td>NaN</td>\n",
              "      <td>Regulation [down-regulated]</td>\n",
              "      <td>NaN</td>\n",
              "      <td>MicroRNA let-7a suppresses breast cancer cell ...</td>\n",
              "      <td>N/A;</td>\n",
              "      <td>hsa-let-7a</td>\n",
              "    </tr>\n",
              "    <tr>\n",
              "      <th>4</th>\n",
              "      <td>hsa-let-7a</td>\n",
              "      <td>lncRNA</td>\n",
              "      <td>Homo sapiens</td>\n",
              "      <td>breast cancer</td>\n",
              "      <td>NaN</td>\n",
              "      <td>Regulation [down-regulated]</td>\n",
              "      <td>NaN</td>\n",
              "      <td>The heterochronic microRNA let-7 inhibits cell...</td>\n",
              "      <td>N/A;</td>\n",
              "      <td>hsa-let-7a</td>\n",
              "    </tr>\n",
              "    <tr>\n",
              "      <th>5</th>\n",
              "      <td>hsa-let-7a</td>\n",
              "      <td>lncRNA</td>\n",
              "      <td>Homo sapiens</td>\n",
              "      <td>breast cancer</td>\n",
              "      <td>NaN</td>\n",
              "      <td>Regulation [down-regulated]</td>\n",
              "      <td>NaN</td>\n",
              "      <td>Lin28 induces epithelial-to-mesenchymal transi...</td>\n",
              "      <td>N/A;</td>\n",
              "      <td>hsa-let-7a</td>\n",
              "    </tr>\n",
              "    <tr>\n",
              "      <th>...</th>\n",
              "      <td>...</td>\n",
              "      <td>...</td>\n",
              "      <td>...</td>\n",
              "      <td>...</td>\n",
              "      <td>...</td>\n",
              "      <td>...</td>\n",
              "      <td>...</td>\n",
              "      <td>...</td>\n",
              "      <td>...</td>\n",
              "      <td>...</td>\n",
              "    </tr>\n",
              "    <tr>\n",
              "      <th>57647</th>\n",
              "      <td>hsa-miR-574-3p</td>\n",
              "      <td>lncRNA</td>\n",
              "      <td>Homo sapiens</td>\n",
              "      <td>sarcoma</td>\n",
              "      <td>osteosarcoma</td>\n",
              "      <td>Regulation [up-regulated]</td>\n",
              "      <td>NaN</td>\n",
              "      <td>NaN</td>\n",
              "      <td>N/A;</td>\n",
              "      <td>hsa-miR-574-3p</td>\n",
              "    </tr>\n",
              "    <tr>\n",
              "      <th>57649</th>\n",
              "      <td>hsa-miR-21</td>\n",
              "      <td>lncRNA</td>\n",
              "      <td>Homo sapiens</td>\n",
              "      <td>pancreatic cancer</td>\n",
              "      <td>pancreatic ductal adenocarcinoma (PDAC)</td>\n",
              "      <td>Regulation [up-regulated]</td>\n",
              "      <td>NaN</td>\n",
              "      <td>NaN</td>\n",
              "      <td>N/A;</td>\n",
              "      <td>hsa-miR-21</td>\n",
              "    </tr>\n",
              "    <tr>\n",
              "      <th>57650</th>\n",
              "      <td>hsa-miR-23a</td>\n",
              "      <td>lncRNA</td>\n",
              "      <td>Homo sapiens</td>\n",
              "      <td>pancreatic cancer</td>\n",
              "      <td>pancreatic ductal adenocarcinoma (PDAC)</td>\n",
              "      <td>Regulation [up-regulated]</td>\n",
              "      <td>NaN</td>\n",
              "      <td>NaN</td>\n",
              "      <td>N/A;</td>\n",
              "      <td>hsa-miR-23a</td>\n",
              "    </tr>\n",
              "    <tr>\n",
              "      <th>57651</th>\n",
              "      <td>hsa-miR-27a</td>\n",
              "      <td>lncRNA</td>\n",
              "      <td>Homo sapiens</td>\n",
              "      <td>pancreatic cancer</td>\n",
              "      <td>pancreatic ductal adenocarcinoma (PDAC)</td>\n",
              "      <td>Regulation [up-regulated]</td>\n",
              "      <td>NaN</td>\n",
              "      <td>NaN</td>\n",
              "      <td>N/A;</td>\n",
              "      <td>hsa-miR-27a</td>\n",
              "    </tr>\n",
              "    <tr>\n",
              "      <th>57659</th>\n",
              "      <td>hsa-miR-15a</td>\n",
              "      <td>lncRNA</td>\n",
              "      <td>NaN</td>\n",
              "      <td>breast cancer</td>\n",
              "      <td>NaN</td>\n",
              "      <td>NaN</td>\n",
              "      <td>NaN</td>\n",
              "      <td>NaN</td>\n",
              "      <td>N/A;</td>\n",
              "      <td>hsa-miR-15a</td>\n",
              "    </tr>\n",
              "  </tbody>\n",
              "</table>\n",
              "<p>56622 rows × 10 columns</p>\n",
              "</div>"
            ],
            "text/plain": [
              "         ncRNA Symbol ncRNA Category  ... PubMed ID;          Rna_id\n",
              "0          hsa-let-7a         lncRNA  ...       N/A;      hsa-let-7a\n",
              "2          hsa-let-7a         lncRNA  ...       N/A;      hsa-let-7a\n",
              "3          hsa-let-7a         lncRNA  ...       N/A;      hsa-let-7a\n",
              "4          hsa-let-7a         lncRNA  ...       N/A;      hsa-let-7a\n",
              "5          hsa-let-7a         lncRNA  ...       N/A;      hsa-let-7a\n",
              "...               ...            ...  ...        ...             ...\n",
              "57647  hsa-miR-574-3p         lncRNA  ...       N/A;  hsa-miR-574-3p\n",
              "57649      hsa-miR-21         lncRNA  ...       N/A;      hsa-miR-21\n",
              "57650     hsa-miR-23a         lncRNA  ...       N/A;     hsa-miR-23a\n",
              "57651     hsa-miR-27a         lncRNA  ...       N/A;     hsa-miR-27a\n",
              "57659     hsa-miR-15a         lncRNA  ...       N/A;     hsa-miR-15a\n",
              "\n",
              "[56622 rows x 10 columns]"
            ]
          },
          "metadata": {
            "tags": []
          },
          "execution_count": 29
        }
      ]
    },
    {
      "cell_type": "code",
      "metadata": {
        "id": "LRUE5KtuPVLI"
      },
      "source": [
        "# drop all columns they have many Nan values in additions to ncRNA symbol because we have now Rna ID \n",
        "all_data=all_data.drop(['ncRNA Symbol','Validated Method/Prediction Method', 'Description','PubMed ID;'], axis=1)"
      ],
      "execution_count": null,
      "outputs": []
    },
    {
      "cell_type": "code",
      "metadata": {
        "colab": {
          "base_uri": "https://localhost:8080/",
          "height": 589
        },
        "id": "sy0_VLtzPpLy",
        "outputId": "7fdd7d28-5f38-4bc5-9252-a04b7521e289"
      },
      "source": [
        "all_data"
      ],
      "execution_count": null,
      "outputs": [
        {
          "output_type": "execute_result",
          "data": {
            "text/html": [
              "<div>\n",
              "<style scoped>\n",
              "    .dataframe tbody tr th:only-of-type {\n",
              "        vertical-align: middle;\n",
              "    }\n",
              "\n",
              "    .dataframe tbody tr th {\n",
              "        vertical-align: top;\n",
              "    }\n",
              "\n",
              "    .dataframe thead th {\n",
              "        text-align: right;\n",
              "    }\n",
              "</style>\n",
              "<table border=\"1\" class=\"dataframe\">\n",
              "  <thead>\n",
              "    <tr style=\"text-align: right;\">\n",
              "      <th></th>\n",
              "      <th>ncRNA Category</th>\n",
              "      <th>Species</th>\n",
              "      <th>Disease Name</th>\n",
              "      <th>Sample</th>\n",
              "      <th>Dysfunction Pattern</th>\n",
              "      <th>Rna_id</th>\n",
              "    </tr>\n",
              "  </thead>\n",
              "  <tbody>\n",
              "    <tr>\n",
              "      <th>0</th>\n",
              "      <td>lncRNA</td>\n",
              "      <td>Homo sapiens</td>\n",
              "      <td>acute myeloid leukemia</td>\n",
              "      <td>NaN</td>\n",
              "      <td>Regulation [up-regulated]</td>\n",
              "      <td>hsa-let-7a</td>\n",
              "    </tr>\n",
              "    <tr>\n",
              "      <th>2</th>\n",
              "      <td>lncRNA</td>\n",
              "      <td>Homo sapiens</td>\n",
              "      <td>breast cancer</td>\n",
              "      <td>NaN</td>\n",
              "      <td>Regulation [down-regulated]</td>\n",
              "      <td>hsa-let-7a</td>\n",
              "    </tr>\n",
              "    <tr>\n",
              "      <th>3</th>\n",
              "      <td>lncRNA</td>\n",
              "      <td>Homo sapiens</td>\n",
              "      <td>breast cancer</td>\n",
              "      <td>NaN</td>\n",
              "      <td>Regulation [down-regulated]</td>\n",
              "      <td>hsa-let-7a</td>\n",
              "    </tr>\n",
              "    <tr>\n",
              "      <th>4</th>\n",
              "      <td>lncRNA</td>\n",
              "      <td>Homo sapiens</td>\n",
              "      <td>breast cancer</td>\n",
              "      <td>NaN</td>\n",
              "      <td>Regulation [down-regulated]</td>\n",
              "      <td>hsa-let-7a</td>\n",
              "    </tr>\n",
              "    <tr>\n",
              "      <th>5</th>\n",
              "      <td>lncRNA</td>\n",
              "      <td>Homo sapiens</td>\n",
              "      <td>breast cancer</td>\n",
              "      <td>NaN</td>\n",
              "      <td>Regulation [down-regulated]</td>\n",
              "      <td>hsa-let-7a</td>\n",
              "    </tr>\n",
              "    <tr>\n",
              "      <th>...</th>\n",
              "      <td>...</td>\n",
              "      <td>...</td>\n",
              "      <td>...</td>\n",
              "      <td>...</td>\n",
              "      <td>...</td>\n",
              "      <td>...</td>\n",
              "    </tr>\n",
              "    <tr>\n",
              "      <th>57647</th>\n",
              "      <td>lncRNA</td>\n",
              "      <td>Homo sapiens</td>\n",
              "      <td>sarcoma</td>\n",
              "      <td>osteosarcoma</td>\n",
              "      <td>Regulation [up-regulated]</td>\n",
              "      <td>hsa-miR-574-3p</td>\n",
              "    </tr>\n",
              "    <tr>\n",
              "      <th>57649</th>\n",
              "      <td>lncRNA</td>\n",
              "      <td>Homo sapiens</td>\n",
              "      <td>pancreatic cancer</td>\n",
              "      <td>pancreatic ductal adenocarcinoma (PDAC)</td>\n",
              "      <td>Regulation [up-regulated]</td>\n",
              "      <td>hsa-miR-21</td>\n",
              "    </tr>\n",
              "    <tr>\n",
              "      <th>57650</th>\n",
              "      <td>lncRNA</td>\n",
              "      <td>Homo sapiens</td>\n",
              "      <td>pancreatic cancer</td>\n",
              "      <td>pancreatic ductal adenocarcinoma (PDAC)</td>\n",
              "      <td>Regulation [up-regulated]</td>\n",
              "      <td>hsa-miR-23a</td>\n",
              "    </tr>\n",
              "    <tr>\n",
              "      <th>57651</th>\n",
              "      <td>lncRNA</td>\n",
              "      <td>Homo sapiens</td>\n",
              "      <td>pancreatic cancer</td>\n",
              "      <td>pancreatic ductal adenocarcinoma (PDAC)</td>\n",
              "      <td>Regulation [up-regulated]</td>\n",
              "      <td>hsa-miR-27a</td>\n",
              "    </tr>\n",
              "    <tr>\n",
              "      <th>57659</th>\n",
              "      <td>lncRNA</td>\n",
              "      <td>NaN</td>\n",
              "      <td>breast cancer</td>\n",
              "      <td>NaN</td>\n",
              "      <td>NaN</td>\n",
              "      <td>hsa-miR-15a</td>\n",
              "    </tr>\n",
              "  </tbody>\n",
              "</table>\n",
              "<p>56622 rows × 6 columns</p>\n",
              "</div>"
            ],
            "text/plain": [
              "      ncRNA Category       Species  ...          Dysfunction Pattern          Rna_id\n",
              "0             lncRNA  Homo sapiens  ...    Regulation [up-regulated]      hsa-let-7a\n",
              "2             lncRNA  Homo sapiens  ...  Regulation [down-regulated]      hsa-let-7a\n",
              "3             lncRNA  Homo sapiens  ...  Regulation [down-regulated]      hsa-let-7a\n",
              "4             lncRNA  Homo sapiens  ...  Regulation [down-regulated]      hsa-let-7a\n",
              "5             lncRNA  Homo sapiens  ...  Regulation [down-regulated]      hsa-let-7a\n",
              "...              ...           ...  ...                          ...             ...\n",
              "57647         lncRNA  Homo sapiens  ...    Regulation [up-regulated]  hsa-miR-574-3p\n",
              "57649         lncRNA  Homo sapiens  ...    Regulation [up-regulated]      hsa-miR-21\n",
              "57650         lncRNA  Homo sapiens  ...    Regulation [up-regulated]     hsa-miR-23a\n",
              "57651         lncRNA  Homo sapiens  ...    Regulation [up-regulated]     hsa-miR-27a\n",
              "57659         lncRNA           NaN  ...                          NaN     hsa-miR-15a\n",
              "\n",
              "[56622 rows x 6 columns]"
            ]
          },
          "metadata": {
            "tags": []
          },
          "execution_count": 31
        }
      ]
    },
    {
      "cell_type": "code",
      "metadata": {
        "colab": {
          "base_uri": "https://localhost:8080/",
          "height": 289
        },
        "id": "EiKHIE6AQcT4",
        "outputId": "304eb4bf-d782-404a-b542-05e8878a7f80"
      },
      "source": [
        "df=df.rename(columns={'0_caller': 'Sequence'})\n",
        "df=df.rename(columns={'new_se': 'Anti_Sequence'})\n",
        "\n",
        "df.head()"
      ],
      "execution_count": null,
      "outputs": [
        {
          "output_type": "execute_result",
          "data": {
            "text/html": [
              "<div>\n",
              "<style scoped>\n",
              "    .dataframe tbody tr th:only-of-type {\n",
              "        vertical-align: middle;\n",
              "    }\n",
              "\n",
              "    .dataframe tbody tr th {\n",
              "        vertical-align: top;\n",
              "    }\n",
              "\n",
              "    .dataframe thead th {\n",
              "        text-align: right;\n",
              "    }\n",
              "</style>\n",
              "<table border=\"1\" class=\"dataframe\">\n",
              "  <thead>\n",
              "    <tr style=\"text-align: right;\">\n",
              "      <th></th>\n",
              "      <th>Sequence</th>\n",
              "      <th>0_other</th>\n",
              "      <th>Rna_id</th>\n",
              "      <th>Anti_Sequence</th>\n",
              "    </tr>\n",
              "  </thead>\n",
              "  <tbody>\n",
              "    <tr>\n",
              "      <th>0</th>\n",
              "      <td>UGAGGUAGUAGGUUGUAUAGUU</td>\n",
              "      <td>&gt;hsa-let-7a-5p MIMAT0000062 Homo sapiens let-7...</td>\n",
              "      <td>hsa-let-7a-5p</td>\n",
              "      <td>ACUCCAUCAUCCAACAUAUCAA</td>\n",
              "    </tr>\n",
              "    <tr>\n",
              "      <th>1</th>\n",
              "      <td>CUAUACAAUCUACUGUCUUUC</td>\n",
              "      <td>&gt;hsa-let-7a-3p MIMAT0004481 Homo sapiens let-7...</td>\n",
              "      <td>hsa-let-7a-3p</td>\n",
              "      <td>GAUAUGUUAGAUGACAGAAAG</td>\n",
              "    </tr>\n",
              "    <tr>\n",
              "      <th>2</th>\n",
              "      <td>CUGUACAGCCUCCUAGCUUUCC</td>\n",
              "      <td>&gt;hsa-let-7a-2-3p MIMAT0010195 Homo sapiens let...</td>\n",
              "      <td>hsa-let-7a-2-3p</td>\n",
              "      <td>GACAUGUCGGAGGAUCGAAAGG</td>\n",
              "    </tr>\n",
              "    <tr>\n",
              "      <th>3</th>\n",
              "      <td>UGAGGUAGUAGGUUGUGUGGUU</td>\n",
              "      <td>&gt;hsa-let-7b-5p MIMAT0000063 Homo sapiens let-7...</td>\n",
              "      <td>hsa-let-7b-5p</td>\n",
              "      <td>ACUCCAUCAUCCAACACACCAA</td>\n",
              "    </tr>\n",
              "    <tr>\n",
              "      <th>4</th>\n",
              "      <td>CUAUACAACCUACUGCCUUCCC</td>\n",
              "      <td>&gt;hsa-let-7b-3p MIMAT0004482 Homo sapiens let-7...</td>\n",
              "      <td>hsa-let-7b-3p</td>\n",
              "      <td>GAUAUGUUGGAUGACGGAAGGG</td>\n",
              "    </tr>\n",
              "  </tbody>\n",
              "</table>\n",
              "</div>"
            ],
            "text/plain": [
              "                 Sequence  ...           Anti_Sequence\n",
              "0  UGAGGUAGUAGGUUGUAUAGUU  ...  ACUCCAUCAUCCAACAUAUCAA\n",
              "1   CUAUACAAUCUACUGUCUUUC  ...   GAUAUGUUAGAUGACAGAAAG\n",
              "2  CUGUACAGCCUCCUAGCUUUCC  ...  GACAUGUCGGAGGAUCGAAAGG\n",
              "3  UGAGGUAGUAGGUUGUGUGGUU  ...  ACUCCAUCAUCCAACACACCAA\n",
              "4  CUAUACAACCUACUGCCUUCCC  ...  GAUAUGUUGGAUGACGGAAGGG\n",
              "\n",
              "[5 rows x 4 columns]"
            ]
          },
          "metadata": {
            "tags": []
          },
          "execution_count": 33
        }
      ]
    },
    {
      "cell_type": "code",
      "metadata": {
        "id": "pR2-QGonP7yd"
      },
      "source": [
        "df=df.drop(['0_other'],axis=1)\n"
      ],
      "execution_count": null,
      "outputs": []
    },
    {
      "cell_type": "code",
      "metadata": {
        "colab": {
          "base_uri": "https://localhost:8080/",
          "height": 202
        },
        "id": "EY4kwKgrRlJv",
        "outputId": "2ea96aa2-18c1-492f-ca53-9c8c488438a4"
      },
      "source": [
        "df.head()"
      ],
      "execution_count": null,
      "outputs": [
        {
          "output_type": "execute_result",
          "data": {
            "text/html": [
              "<div>\n",
              "<style scoped>\n",
              "    .dataframe tbody tr th:only-of-type {\n",
              "        vertical-align: middle;\n",
              "    }\n",
              "\n",
              "    .dataframe tbody tr th {\n",
              "        vertical-align: top;\n",
              "    }\n",
              "\n",
              "    .dataframe thead th {\n",
              "        text-align: right;\n",
              "    }\n",
              "</style>\n",
              "<table border=\"1\" class=\"dataframe\">\n",
              "  <thead>\n",
              "    <tr style=\"text-align: right;\">\n",
              "      <th></th>\n",
              "      <th>Sequence</th>\n",
              "      <th>Rna_id</th>\n",
              "      <th>Anti_Sequence</th>\n",
              "    </tr>\n",
              "  </thead>\n",
              "  <tbody>\n",
              "    <tr>\n",
              "      <th>0</th>\n",
              "      <td>UGAGGUAGUAGGUUGUAUAGUU</td>\n",
              "      <td>hsa-let-7a-5p</td>\n",
              "      <td>ACUCCAUCAUCCAACAUAUCAA</td>\n",
              "    </tr>\n",
              "    <tr>\n",
              "      <th>1</th>\n",
              "      <td>CUAUACAAUCUACUGUCUUUC</td>\n",
              "      <td>hsa-let-7a-3p</td>\n",
              "      <td>GAUAUGUUAGAUGACAGAAAG</td>\n",
              "    </tr>\n",
              "    <tr>\n",
              "      <th>2</th>\n",
              "      <td>CUGUACAGCCUCCUAGCUUUCC</td>\n",
              "      <td>hsa-let-7a-2-3p</td>\n",
              "      <td>GACAUGUCGGAGGAUCGAAAGG</td>\n",
              "    </tr>\n",
              "    <tr>\n",
              "      <th>3</th>\n",
              "      <td>UGAGGUAGUAGGUUGUGUGGUU</td>\n",
              "      <td>hsa-let-7b-5p</td>\n",
              "      <td>ACUCCAUCAUCCAACACACCAA</td>\n",
              "    </tr>\n",
              "    <tr>\n",
              "      <th>4</th>\n",
              "      <td>CUAUACAACCUACUGCCUUCCC</td>\n",
              "      <td>hsa-let-7b-3p</td>\n",
              "      <td>GAUAUGUUGGAUGACGGAAGGG</td>\n",
              "    </tr>\n",
              "  </tbody>\n",
              "</table>\n",
              "</div>"
            ],
            "text/plain": [
              "                 Sequence           Rna_id           Anti_Sequence\n",
              "0  UGAGGUAGUAGGUUGUAUAGUU    hsa-let-7a-5p  ACUCCAUCAUCCAACAUAUCAA\n",
              "1   CUAUACAAUCUACUGUCUUUC    hsa-let-7a-3p   GAUAUGUUAGAUGACAGAAAG\n",
              "2  CUGUACAGCCUCCUAGCUUUCC  hsa-let-7a-2-3p  GACAUGUCGGAGGAUCGAAAGG\n",
              "3  UGAGGUAGUAGGUUGUGUGGUU    hsa-let-7b-5p  ACUCCAUCAUCCAACACACCAA\n",
              "4  CUAUACAACCUACUGCCUUCCC    hsa-let-7b-3p  GAUAUGUUGGAUGACGGAAGGG"
            ]
          },
          "metadata": {
            "tags": []
          },
          "execution_count": 35
        }
      ]
    },
    {
      "cell_type": "code",
      "metadata": {
        "colab": {
          "base_uri": "https://localhost:8080/"
        },
        "id": "l5LotK0JepvJ",
        "outputId": "e29eef41-c4aa-4d64-8320-1546837f35a4"
      },
      "source": [
        "all_data.loc[pd.isna(all_data[\"Dysfunction Pattern\"]), :].index"
      ],
      "execution_count": null,
      "outputs": [
        {
          "output_type": "execute_result",
          "data": {
            "text/plain": [
              "Int64Index([1279, 57659], dtype='int64')"
            ]
          },
          "metadata": {
            "tags": []
          },
          "execution_count": 36
        }
      ]
    },
    {
      "cell_type": "code",
      "metadata": {
        "id": "n-yPVR5lcvHU"
      },
      "source": [
        "all_data['Dysfunction Pattern'][57659]='Regulation [down-regulated]'\n",
        "all_data['Dysfunction Pattern'][1279]='Regulation [up-regulated]'"
      ],
      "execution_count": null,
      "outputs": []
    },
    {
      "cell_type": "code",
      "metadata": {
        "colab": {
          "base_uri": "https://localhost:8080/"
        },
        "id": "7uEfj_wydxsX",
        "outputId": "11c59f12-4fb8-47fe-e485-60b841adb57d"
      },
      "source": [
        "all_data['Dysfunction Pattern'].isna().sum()\n"
      ],
      "execution_count": null,
      "outputs": [
        {
          "output_type": "execute_result",
          "data": {
            "text/plain": [
              "0"
            ]
          },
          "metadata": {
            "tags": []
          },
          "execution_count": 38
        }
      ]
    },
    {
      "cell_type": "code",
      "metadata": {
        "colab": {
          "base_uri": "https://localhost:8080/"
        },
        "id": "ianawTtClUCJ",
        "outputId": "bbe65a96-aaa7-46c2-9e63-998bf78b81c8"
      },
      "source": [
        "all_data.dtypes"
      ],
      "execution_count": null,
      "outputs": [
        {
          "output_type": "execute_result",
          "data": {
            "text/plain": [
              "ncRNA Category         object\n",
              "Species                object\n",
              "Disease Name           object\n",
              "Sample                 object\n",
              "Dysfunction Pattern    object\n",
              "Rna_id                 object\n",
              "dtype: object"
            ]
          },
          "metadata": {
            "tags": []
          },
          "execution_count": 39
        }
      ]
    },
    {
      "cell_type": "code",
      "metadata": {
        "colab": {
          "base_uri": "https://localhost:8080/"
        },
        "id": "7KEniYRhlWuW",
        "outputId": "bd8ae3ad-fd31-4da5-e966-75bdbe7b7619"
      },
      "source": [
        "df.dtypes"
      ],
      "execution_count": null,
      "outputs": [
        {
          "output_type": "execute_result",
          "data": {
            "text/plain": [
              "Sequence         object\n",
              "Rna_id           object\n",
              "Anti_Sequence    object\n",
              "dtype: object"
            ]
          },
          "metadata": {
            "tags": []
          },
          "execution_count": 40
        }
      ]
    },
    {
      "cell_type": "code",
      "metadata": {
        "id": "DEwlCArZln5c"
      },
      "source": [
        "df.join?"
      ],
      "execution_count": null,
      "outputs": []
    },
    {
      "cell_type": "code",
      "metadata": {
        "id": "4Le7G7_kQAYh"
      },
      "source": [
        "#we merge our two excels based on Rna_id and add sequence to new data \n",
        "result = pd.merge(all_data,\n",
        "                 df,\n",
        "                 on='Rna_id', \n",
        "                 how='inner')"
      ],
      "execution_count": null,
      "outputs": []
    },
    {
      "cell_type": "code",
      "metadata": {
        "colab": {
          "base_uri": "https://localhost:8080/",
          "height": 851
        },
        "id": "B4wDoV16QK4Z",
        "outputId": "cdab5385-b3e7-48bd-b143-ddcdc160461c"
      },
      "source": [
        "result"
      ],
      "execution_count": null,
      "outputs": [
        {
          "output_type": "execute_result",
          "data": {
            "text/html": [
              "<div>\n",
              "<style scoped>\n",
              "    .dataframe tbody tr th:only-of-type {\n",
              "        vertical-align: middle;\n",
              "    }\n",
              "\n",
              "    .dataframe tbody tr th {\n",
              "        vertical-align: top;\n",
              "    }\n",
              "\n",
              "    .dataframe thead th {\n",
              "        text-align: right;\n",
              "    }\n",
              "</style>\n",
              "<table border=\"1\" class=\"dataframe\">\n",
              "  <thead>\n",
              "    <tr style=\"text-align: right;\">\n",
              "      <th></th>\n",
              "      <th>ncRNA Category</th>\n",
              "      <th>Species</th>\n",
              "      <th>Disease Name</th>\n",
              "      <th>Sample</th>\n",
              "      <th>Dysfunction Pattern</th>\n",
              "      <th>Rna_id</th>\n",
              "      <th>Sequence</th>\n",
              "      <th>Anti_Sequence</th>\n",
              "    </tr>\n",
              "  </thead>\n",
              "  <tbody>\n",
              "    <tr>\n",
              "      <th>0</th>\n",
              "      <td>lncRNA</td>\n",
              "      <td>Homo sapiens</td>\n",
              "      <td>prostate cancer</td>\n",
              "      <td>NaN</td>\n",
              "      <td>Regulation [down-regulated]</td>\n",
              "      <td>hsa-let-7a-3p</td>\n",
              "      <td>CUAUACAAUCUACUGUCUUUC</td>\n",
              "      <td>GAUAUGUUAGAUGACAGAAAG</td>\n",
              "    </tr>\n",
              "    <tr>\n",
              "      <th>1</th>\n",
              "      <td>lncRNA</td>\n",
              "      <td>Homo sapiens</td>\n",
              "      <td>colon cancer</td>\n",
              "      <td>colon cancer stage 2</td>\n",
              "      <td>Regulation [down-regulated]</td>\n",
              "      <td>hsa-let-7a-3p</td>\n",
              "      <td>CUAUACAAUCUACUGUCUUUC</td>\n",
              "      <td>GAUAUGUUAGAUGACAGAAAG</td>\n",
              "    </tr>\n",
              "    <tr>\n",
              "      <th>2</th>\n",
              "      <td>lncRNA</td>\n",
              "      <td>Homo sapiens</td>\n",
              "      <td>colon cancer</td>\n",
              "      <td>NaN</td>\n",
              "      <td>Regulation [up-regulated]</td>\n",
              "      <td>hsa-let-7a-3p</td>\n",
              "      <td>CUAUACAAUCUACUGUCUUUC</td>\n",
              "      <td>GAUAUGUUAGAUGACAGAAAG</td>\n",
              "    </tr>\n",
              "    <tr>\n",
              "      <th>3</th>\n",
              "      <td>lncRNA</td>\n",
              "      <td>Homo sapiens</td>\n",
              "      <td>sarcoma</td>\n",
              "      <td>osteosarcoma</td>\n",
              "      <td>Regulation [up-regulated]</td>\n",
              "      <td>hsa-let-7a-3p</td>\n",
              "      <td>CUAUACAAUCUACUGUCUUUC</td>\n",
              "      <td>GAUAUGUUAGAUGACAGAAAG</td>\n",
              "    </tr>\n",
              "    <tr>\n",
              "      <th>4</th>\n",
              "      <td>lncRNA</td>\n",
              "      <td>Homo sapiens</td>\n",
              "      <td>breast cancer</td>\n",
              "      <td>breast invasive carcinoma</td>\n",
              "      <td>Regulation [up-regulated]</td>\n",
              "      <td>hsa-let-7a-3p</td>\n",
              "      <td>CUAUACAAUCUACUGUCUUUC</td>\n",
              "      <td>GAUAUGUUAGAUGACAGAAAG</td>\n",
              "    </tr>\n",
              "    <tr>\n",
              "      <th>...</th>\n",
              "      <td>...</td>\n",
              "      <td>...</td>\n",
              "      <td>...</td>\n",
              "      <td>...</td>\n",
              "      <td>...</td>\n",
              "      <td>...</td>\n",
              "      <td>...</td>\n",
              "      <td>...</td>\n",
              "    </tr>\n",
              "    <tr>\n",
              "      <th>25751</th>\n",
              "      <td>lncRNA</td>\n",
              "      <td>Homo sapiens</td>\n",
              "      <td>melanoma</td>\n",
              "      <td>skin cutaneous melanoma</td>\n",
              "      <td>Regulation [down-regulated]</td>\n",
              "      <td>hsa-miR-513b-5p</td>\n",
              "      <td>UUCACAAGGAGGUGUCAUUUAU</td>\n",
              "      <td>AAGUGUUCCUCCACAGUAAAUA</td>\n",
              "    </tr>\n",
              "    <tr>\n",
              "      <th>25752</th>\n",
              "      <td>lncRNA</td>\n",
              "      <td>Homo sapiens</td>\n",
              "      <td>melanoma</td>\n",
              "      <td>skin cutaneous melanoma</td>\n",
              "      <td>Regulation [down-regulated]</td>\n",
              "      <td>hsa-miR-513b-5p</td>\n",
              "      <td>UUCACAAGGAGGUGUCAUUUAU</td>\n",
              "      <td>AAGUGUUCCUCCACAGUAAAUA</td>\n",
              "    </tr>\n",
              "    <tr>\n",
              "      <th>25753</th>\n",
              "      <td>lncRNA</td>\n",
              "      <td>Homo sapiens</td>\n",
              "      <td>pancreatic cancer</td>\n",
              "      <td>pancreatic adenocarcinoma</td>\n",
              "      <td>Regulation [down-regulated]</td>\n",
              "      <td>hsa-miR-495-5p</td>\n",
              "      <td>GAAGUUGCCCAUGUUAUUUUCG</td>\n",
              "      <td>CUUCAACGGGUACAAUAAAAGC</td>\n",
              "    </tr>\n",
              "    <tr>\n",
              "      <th>25754</th>\n",
              "      <td>lncRNA</td>\n",
              "      <td>Homo sapiens</td>\n",
              "      <td>melanoma</td>\n",
              "      <td>skin cutaneous melanoma</td>\n",
              "      <td>Regulation [up-regulated]</td>\n",
              "      <td>hsa-miR-4784</td>\n",
              "      <td>UGAGGAGAUGCUGGGACUGA</td>\n",
              "      <td>ACUCCUCUACGACCCUGACU</td>\n",
              "    </tr>\n",
              "    <tr>\n",
              "      <th>25755</th>\n",
              "      <td>lncRNA</td>\n",
              "      <td>Homo sapiens</td>\n",
              "      <td>testicular cancer</td>\n",
              "      <td>testicular germ cell tumor</td>\n",
              "      <td>Regulation [up-regulated]</td>\n",
              "      <td>hsa-miR-1298-3p</td>\n",
              "      <td>CAUCUGGGCAACUGACUGAAC</td>\n",
              "      <td>GUAGACCCGUUGACUGACUUG</td>\n",
              "    </tr>\n",
              "  </tbody>\n",
              "</table>\n",
              "<p>25756 rows × 8 columns</p>\n",
              "</div>"
            ],
            "text/plain": [
              "      ncRNA Category  ...           Anti_Sequence\n",
              "0             lncRNA  ...   GAUAUGUUAGAUGACAGAAAG\n",
              "1             lncRNA  ...   GAUAUGUUAGAUGACAGAAAG\n",
              "2             lncRNA  ...   GAUAUGUUAGAUGACAGAAAG\n",
              "3             lncRNA  ...   GAUAUGUUAGAUGACAGAAAG\n",
              "4             lncRNA  ...   GAUAUGUUAGAUGACAGAAAG\n",
              "...              ...  ...                     ...\n",
              "25751         lncRNA  ...  AAGUGUUCCUCCACAGUAAAUA\n",
              "25752         lncRNA  ...  AAGUGUUCCUCCACAGUAAAUA\n",
              "25753         lncRNA  ...  CUUCAACGGGUACAAUAAAAGC\n",
              "25754         lncRNA  ...    ACUCCUCUACGACCCUGACU\n",
              "25755         lncRNA  ...   GUAGACCCGUUGACUGACUUG\n",
              "\n",
              "[25756 rows x 8 columns]"
            ]
          },
          "metadata": {
            "tags": []
          },
          "execution_count": 42
        }
      ]
    },
    {
      "cell_type": "code",
      "metadata": {
        "id": "gp2PZC5TRuDX"
      },
      "source": [
        "#reorder the columns\n",
        "result = result[['Rna_id','Sequence','ncRNA Category','Disease Name','Dysfunction Pattern','Species','Anti_Sequence']]\n"
      ],
      "execution_count": null,
      "outputs": []
    },
    {
      "cell_type": "code",
      "metadata": {
        "colab": {
          "base_uri": "https://localhost:8080/"
        },
        "id": "hBBekhqfR3YP",
        "outputId": "5d2f20b4-0194-4e08-fd3d-9b86d7ec0e8f"
      },
      "source": [
        "for j in range(0,len(result['Dysfunction Pattern'])):\n",
        "  if result['Dysfunction Pattern'][j]=='Regulation [down-regulated]':\n",
        "    result['Anti_Sequence'][j]=''\n"
      ],
      "execution_count": null,
      "outputs": [
        {
          "output_type": "stream",
          "text": [
            "/usr/local/lib/python3.7/dist-packages/IPython/core/interactiveshell.py:2882: SettingWithCopyWarning: \n",
            "A value is trying to be set on a copy of a slice from a DataFrame\n",
            "\n",
            "See the caveats in the documentation: https://pandas.pydata.org/pandas-docs/stable/user_guide/indexing.html#returning-a-view-versus-a-copy\n",
            "  exec(code_obj, self.user_global_ns, self.user_ns)\n"
          ],
          "name": "stderr"
        }
      ]
    },
    {
      "cell_type": "code",
      "metadata": {
        "colab": {
          "base_uri": "https://localhost:8080/",
          "height": 851
        },
        "id": "GftG_EN0lG0u",
        "outputId": "32c181a4-d3f7-4332-cb51-617f2934c9a9"
      },
      "source": [
        "result"
      ],
      "execution_count": null,
      "outputs": [
        {
          "output_type": "execute_result",
          "data": {
            "text/html": [
              "<div>\n",
              "<style scoped>\n",
              "    .dataframe tbody tr th:only-of-type {\n",
              "        vertical-align: middle;\n",
              "    }\n",
              "\n",
              "    .dataframe tbody tr th {\n",
              "        vertical-align: top;\n",
              "    }\n",
              "\n",
              "    .dataframe thead th {\n",
              "        text-align: right;\n",
              "    }\n",
              "</style>\n",
              "<table border=\"1\" class=\"dataframe\">\n",
              "  <thead>\n",
              "    <tr style=\"text-align: right;\">\n",
              "      <th></th>\n",
              "      <th>Rna_id</th>\n",
              "      <th>Sequence</th>\n",
              "      <th>ncRNA Category</th>\n",
              "      <th>Disease Name</th>\n",
              "      <th>Dysfunction Pattern</th>\n",
              "      <th>Species</th>\n",
              "      <th>Anti_Sequence</th>\n",
              "    </tr>\n",
              "  </thead>\n",
              "  <tbody>\n",
              "    <tr>\n",
              "      <th>0</th>\n",
              "      <td>hsa-let-7a-3p</td>\n",
              "      <td>CUAUACAAUCUACUGUCUUUC</td>\n",
              "      <td>lncRNA</td>\n",
              "      <td>prostate cancer</td>\n",
              "      <td>Regulation [down-regulated]</td>\n",
              "      <td>Homo sapiens</td>\n",
              "      <td></td>\n",
              "    </tr>\n",
              "    <tr>\n",
              "      <th>1</th>\n",
              "      <td>hsa-let-7a-3p</td>\n",
              "      <td>CUAUACAAUCUACUGUCUUUC</td>\n",
              "      <td>lncRNA</td>\n",
              "      <td>colon cancer</td>\n",
              "      <td>Regulation [down-regulated]</td>\n",
              "      <td>Homo sapiens</td>\n",
              "      <td></td>\n",
              "    </tr>\n",
              "    <tr>\n",
              "      <th>2</th>\n",
              "      <td>hsa-let-7a-3p</td>\n",
              "      <td>CUAUACAAUCUACUGUCUUUC</td>\n",
              "      <td>lncRNA</td>\n",
              "      <td>colon cancer</td>\n",
              "      <td>Regulation [up-regulated]</td>\n",
              "      <td>Homo sapiens</td>\n",
              "      <td>GAUAUGUUAGAUGACAGAAAG</td>\n",
              "    </tr>\n",
              "    <tr>\n",
              "      <th>3</th>\n",
              "      <td>hsa-let-7a-3p</td>\n",
              "      <td>CUAUACAAUCUACUGUCUUUC</td>\n",
              "      <td>lncRNA</td>\n",
              "      <td>sarcoma</td>\n",
              "      <td>Regulation [up-regulated]</td>\n",
              "      <td>Homo sapiens</td>\n",
              "      <td>GAUAUGUUAGAUGACAGAAAG</td>\n",
              "    </tr>\n",
              "    <tr>\n",
              "      <th>4</th>\n",
              "      <td>hsa-let-7a-3p</td>\n",
              "      <td>CUAUACAAUCUACUGUCUUUC</td>\n",
              "      <td>lncRNA</td>\n",
              "      <td>breast cancer</td>\n",
              "      <td>Regulation [up-regulated]</td>\n",
              "      <td>Homo sapiens</td>\n",
              "      <td>GAUAUGUUAGAUGACAGAAAG</td>\n",
              "    </tr>\n",
              "    <tr>\n",
              "      <th>...</th>\n",
              "      <td>...</td>\n",
              "      <td>...</td>\n",
              "      <td>...</td>\n",
              "      <td>...</td>\n",
              "      <td>...</td>\n",
              "      <td>...</td>\n",
              "      <td>...</td>\n",
              "    </tr>\n",
              "    <tr>\n",
              "      <th>25751</th>\n",
              "      <td>hsa-miR-513b-5p</td>\n",
              "      <td>UUCACAAGGAGGUGUCAUUUAU</td>\n",
              "      <td>lncRNA</td>\n",
              "      <td>melanoma</td>\n",
              "      <td>Regulation [down-regulated]</td>\n",
              "      <td>Homo sapiens</td>\n",
              "      <td></td>\n",
              "    </tr>\n",
              "    <tr>\n",
              "      <th>25752</th>\n",
              "      <td>hsa-miR-513b-5p</td>\n",
              "      <td>UUCACAAGGAGGUGUCAUUUAU</td>\n",
              "      <td>lncRNA</td>\n",
              "      <td>melanoma</td>\n",
              "      <td>Regulation [down-regulated]</td>\n",
              "      <td>Homo sapiens</td>\n",
              "      <td></td>\n",
              "    </tr>\n",
              "    <tr>\n",
              "      <th>25753</th>\n",
              "      <td>hsa-miR-495-5p</td>\n",
              "      <td>GAAGUUGCCCAUGUUAUUUUCG</td>\n",
              "      <td>lncRNA</td>\n",
              "      <td>pancreatic cancer</td>\n",
              "      <td>Regulation [down-regulated]</td>\n",
              "      <td>Homo sapiens</td>\n",
              "      <td></td>\n",
              "    </tr>\n",
              "    <tr>\n",
              "      <th>25754</th>\n",
              "      <td>hsa-miR-4784</td>\n",
              "      <td>UGAGGAGAUGCUGGGACUGA</td>\n",
              "      <td>lncRNA</td>\n",
              "      <td>melanoma</td>\n",
              "      <td>Regulation [up-regulated]</td>\n",
              "      <td>Homo sapiens</td>\n",
              "      <td>ACUCCUCUACGACCCUGACU</td>\n",
              "    </tr>\n",
              "    <tr>\n",
              "      <th>25755</th>\n",
              "      <td>hsa-miR-1298-3p</td>\n",
              "      <td>CAUCUGGGCAACUGACUGAAC</td>\n",
              "      <td>lncRNA</td>\n",
              "      <td>testicular cancer</td>\n",
              "      <td>Regulation [up-regulated]</td>\n",
              "      <td>Homo sapiens</td>\n",
              "      <td>GUAGACCCGUUGACUGACUUG</td>\n",
              "    </tr>\n",
              "  </tbody>\n",
              "</table>\n",
              "<p>25756 rows × 7 columns</p>\n",
              "</div>"
            ],
            "text/plain": [
              "                Rna_id  ...          Anti_Sequence\n",
              "0        hsa-let-7a-3p  ...                       \n",
              "1        hsa-let-7a-3p  ...                       \n",
              "2        hsa-let-7a-3p  ...  GAUAUGUUAGAUGACAGAAAG\n",
              "3        hsa-let-7a-3p  ...  GAUAUGUUAGAUGACAGAAAG\n",
              "4        hsa-let-7a-3p  ...  GAUAUGUUAGAUGACAGAAAG\n",
              "...                ...  ...                    ...\n",
              "25751  hsa-miR-513b-5p  ...                       \n",
              "25752  hsa-miR-513b-5p  ...                       \n",
              "25753   hsa-miR-495-5p  ...                       \n",
              "25754     hsa-miR-4784  ...   ACUCCUCUACGACCCUGACU\n",
              "25755  hsa-miR-1298-3p  ...  GUAGACCCGUUGACUGACUUG\n",
              "\n",
              "[25756 rows x 7 columns]"
            ]
          },
          "metadata": {
            "tags": []
          },
          "execution_count": 47
        }
      ]
    },
    {
      "cell_type": "code",
      "metadata": {
        "id": "AjppeMlfR5HL"
      },
      "source": [
        "#save our final file in Pre_data csv\n",
        "result.to_csv('pre_data.csv')"
      ],
      "execution_count": null,
      "outputs": []
    },
    {
      "cell_type": "code",
      "metadata": {
        "id": "3Hzl3lllSJJl"
      },
      "source": [
        ""
      ],
      "execution_count": null,
      "outputs": []
    }
  ]
}