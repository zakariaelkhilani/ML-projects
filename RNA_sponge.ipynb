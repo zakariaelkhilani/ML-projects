{
  "nbformat": 4,
  "nbformat_minor": 0,
  "metadata": {
    "colab": {
      "name": "Untitled3.ipynb",
      "provenance": []
    },
    "kernelspec": {
      "name": "python3",
      "display_name": "Python 3"
    },
    "language_info": {
      "name": "python"
    }
  },
  "cells": [
    {
      "cell_type": "code",
      "metadata": {
        "id": "YmW2aRzhDiaU"
      },
      "source": [
        "import pandas as pd \n",
        "import numpy as np\n",
        "import tensorflow as tf\n",
        "from tensorflow.keras.layers import Input"
      ],
      "execution_count": 2,
      "outputs": []
    },
    {
      "cell_type": "code",
      "metadata": {
        "id": "qEu6rfJkF5JM"
      },
      "source": [
        "data=pd.read_csv('/content/pre_data.csv')"
      ],
      "execution_count": 3,
      "outputs": []
    },
    {
      "cell_type": "code",
      "metadata": {
        "colab": {
          "base_uri": "https://localhost:8080/",
          "height": 306
        },
        "id": "GtuBQ0iWGGjS",
        "outputId": "81c79160-a7f1-4240-d9e7-92cabf81061e"
      },
      "source": [
        "data.head()"
      ],
      "execution_count": 4,
      "outputs": [
        {
          "output_type": "execute_result",
          "data": {
            "text/html": [
              "<div>\n",
              "<style scoped>\n",
              "    .dataframe tbody tr th:only-of-type {\n",
              "        vertical-align: middle;\n",
              "    }\n",
              "\n",
              "    .dataframe tbody tr th {\n",
              "        vertical-align: top;\n",
              "    }\n",
              "\n",
              "    .dataframe thead th {\n",
              "        text-align: right;\n",
              "    }\n",
              "</style>\n",
              "<table border=\"1\" class=\"dataframe\">\n",
              "  <thead>\n",
              "    <tr style=\"text-align: right;\">\n",
              "      <th></th>\n",
              "      <th>Unnamed: 0</th>\n",
              "      <th>Rna_id</th>\n",
              "      <th>Sequence</th>\n",
              "      <th>ncRNA Category</th>\n",
              "      <th>Disease Name</th>\n",
              "      <th>Dysfunction Pattern</th>\n",
              "      <th>Species</th>\n",
              "      <th>Anti_Sequence</th>\n",
              "    </tr>\n",
              "  </thead>\n",
              "  <tbody>\n",
              "    <tr>\n",
              "      <th>0</th>\n",
              "      <td>0</td>\n",
              "      <td>hsa-let-7a-3p</td>\n",
              "      <td>CUAUACAAUCUACUGUCUUUC</td>\n",
              "      <td>lncRNA</td>\n",
              "      <td>prostate cancer</td>\n",
              "      <td>Regulation [down-regulated]</td>\n",
              "      <td>Homo sapiens</td>\n",
              "      <td>GAUAUGUUAGAUGACAGAAAG</td>\n",
              "    </tr>\n",
              "    <tr>\n",
              "      <th>1</th>\n",
              "      <td>1</td>\n",
              "      <td>hsa-let-7a-3p</td>\n",
              "      <td>CUAUACAAUCUACUGUCUUUC</td>\n",
              "      <td>lncRNA</td>\n",
              "      <td>colon cancer</td>\n",
              "      <td>Regulation [down-regulated]</td>\n",
              "      <td>Homo sapiens</td>\n",
              "      <td>GAUAUGUUAGAUGACAGAAAG</td>\n",
              "    </tr>\n",
              "    <tr>\n",
              "      <th>2</th>\n",
              "      <td>2</td>\n",
              "      <td>hsa-let-7a-3p</td>\n",
              "      <td>CUAUACAAUCUACUGUCUUUC</td>\n",
              "      <td>lncRNA</td>\n",
              "      <td>colon cancer</td>\n",
              "      <td>Regulation [up-regulated]</td>\n",
              "      <td>Homo sapiens</td>\n",
              "      <td>GAUAUGUUAGAUGACAGAAAG</td>\n",
              "    </tr>\n",
              "    <tr>\n",
              "      <th>3</th>\n",
              "      <td>3</td>\n",
              "      <td>hsa-let-7a-3p</td>\n",
              "      <td>CUAUACAAUCUACUGUCUUUC</td>\n",
              "      <td>lncRNA</td>\n",
              "      <td>sarcoma</td>\n",
              "      <td>Regulation [up-regulated]</td>\n",
              "      <td>Homo sapiens</td>\n",
              "      <td>GAUAUGUUAGAUGACAGAAAG</td>\n",
              "    </tr>\n",
              "    <tr>\n",
              "      <th>4</th>\n",
              "      <td>4</td>\n",
              "      <td>hsa-let-7a-3p</td>\n",
              "      <td>CUAUACAAUCUACUGUCUUUC</td>\n",
              "      <td>lncRNA</td>\n",
              "      <td>breast cancer</td>\n",
              "      <td>Regulation [up-regulated]</td>\n",
              "      <td>Homo sapiens</td>\n",
              "      <td>GAUAUGUUAGAUGACAGAAAG</td>\n",
              "    </tr>\n",
              "  </tbody>\n",
              "</table>\n",
              "</div>"
            ],
            "text/plain": [
              "   Unnamed: 0         Rna_id  ...       Species          Anti_Sequence\n",
              "0           0  hsa-let-7a-3p  ...  Homo sapiens  GAUAUGUUAGAUGACAGAAAG\n",
              "1           1  hsa-let-7a-3p  ...  Homo sapiens  GAUAUGUUAGAUGACAGAAAG\n",
              "2           2  hsa-let-7a-3p  ...  Homo sapiens  GAUAUGUUAGAUGACAGAAAG\n",
              "3           3  hsa-let-7a-3p  ...  Homo sapiens  GAUAUGUUAGAUGACAGAAAG\n",
              "4           4  hsa-let-7a-3p  ...  Homo sapiens  GAUAUGUUAGAUGACAGAAAG\n",
              "\n",
              "[5 rows x 8 columns]"
            ]
          },
          "metadata": {
            "tags": []
          },
          "execution_count": 4
        }
      ]
    },
    {
      "cell_type": "code",
      "metadata": {
        "id": "-LQXS9iePVdj"
      },
      "source": [
        "#data.drop(['Unnamed: 0','ncRNA Category','Disease Name','Dysfunction Pattern','Species'],axis=1)"
      ],
      "execution_count": null,
      "outputs": []
    },
    {
      "cell_type": "code",
      "metadata": {
        "id": "goWP3N6bMkqx"
      },
      "source": [
        "data['new_Anti_seque']=''"
      ],
      "execution_count": 5,
      "outputs": []
    },
    {
      "cell_type": "code",
      "metadata": {
        "colab": {
          "base_uri": "https://localhost:8080/"
        },
        "id": "xh6-iuL0Lsin",
        "outputId": "9d75919b-ca16-4db9-c000-a84d3bc1ac32"
      },
      "source": [
        "for j in range(0,len(data['Sequence'])):\n",
        "  ss=data['Sequence'][j]\n",
        "  new=\"\"\n",
        "  for i in range(0,len(ss)):\n",
        "   if ss[i]=='A':\n",
        "      new +='T'\n",
        "   else:\n",
        "     if ss[i]=='C':\n",
        "          new +='G'\n",
        "     else: \n",
        "        if ss[i]=='U':\n",
        "            new +='A'\n",
        "        else:\n",
        "          if ss[i]=='G':\n",
        "              new +='C'\n",
        "\n",
        "  data['new_Anti_seque'][j]=new"
      ],
      "execution_count": 6,
      "outputs": [
        {
          "output_type": "stream",
          "text": [
            "/usr/local/lib/python3.7/dist-packages/ipykernel_launcher.py:17: SettingWithCopyWarning: \n",
            "A value is trying to be set on a copy of a slice from a DataFrame\n",
            "\n",
            "See the caveats in the documentation: https://pandas.pydata.org/pandas-docs/stable/user_guide/indexing.html#returning-a-view-versus-a-copy\n"
          ],
          "name": "stderr"
        }
      ]
    },
    {
      "cell_type": "code",
      "metadata": {
        "colab": {
          "base_uri": "https://localhost:8080/",
          "height": 341
        },
        "id": "PPGdzQXZMxw8",
        "outputId": "bc9e04e1-0f45-4051-f197-1a3abc2e80c3"
      },
      "source": [
        "data.head()"
      ],
      "execution_count": 7,
      "outputs": [
        {
          "output_type": "execute_result",
          "data": {
            "text/html": [
              "<div>\n",
              "<style scoped>\n",
              "    .dataframe tbody tr th:only-of-type {\n",
              "        vertical-align: middle;\n",
              "    }\n",
              "\n",
              "    .dataframe tbody tr th {\n",
              "        vertical-align: top;\n",
              "    }\n",
              "\n",
              "    .dataframe thead th {\n",
              "        text-align: right;\n",
              "    }\n",
              "</style>\n",
              "<table border=\"1\" class=\"dataframe\">\n",
              "  <thead>\n",
              "    <tr style=\"text-align: right;\">\n",
              "      <th></th>\n",
              "      <th>Unnamed: 0</th>\n",
              "      <th>Rna_id</th>\n",
              "      <th>Sequence</th>\n",
              "      <th>ncRNA Category</th>\n",
              "      <th>Disease Name</th>\n",
              "      <th>Dysfunction Pattern</th>\n",
              "      <th>Species</th>\n",
              "      <th>Anti_Sequence</th>\n",
              "      <th>new_Anti_seque</th>\n",
              "    </tr>\n",
              "  </thead>\n",
              "  <tbody>\n",
              "    <tr>\n",
              "      <th>0</th>\n",
              "      <td>0</td>\n",
              "      <td>hsa-let-7a-3p</td>\n",
              "      <td>CUAUACAAUCUACUGUCUUUC</td>\n",
              "      <td>lncRNA</td>\n",
              "      <td>prostate cancer</td>\n",
              "      <td>Regulation [down-regulated]</td>\n",
              "      <td>Homo sapiens</td>\n",
              "      <td>GAUAUGUUAGAUGACAGAAAG</td>\n",
              "      <td>GATATGTTAGATGACAGAAAG</td>\n",
              "    </tr>\n",
              "    <tr>\n",
              "      <th>1</th>\n",
              "      <td>1</td>\n",
              "      <td>hsa-let-7a-3p</td>\n",
              "      <td>CUAUACAAUCUACUGUCUUUC</td>\n",
              "      <td>lncRNA</td>\n",
              "      <td>colon cancer</td>\n",
              "      <td>Regulation [down-regulated]</td>\n",
              "      <td>Homo sapiens</td>\n",
              "      <td>GAUAUGUUAGAUGACAGAAAG</td>\n",
              "      <td>GATATGTTAGATGACAGAAAG</td>\n",
              "    </tr>\n",
              "    <tr>\n",
              "      <th>2</th>\n",
              "      <td>2</td>\n",
              "      <td>hsa-let-7a-3p</td>\n",
              "      <td>CUAUACAAUCUACUGUCUUUC</td>\n",
              "      <td>lncRNA</td>\n",
              "      <td>colon cancer</td>\n",
              "      <td>Regulation [up-regulated]</td>\n",
              "      <td>Homo sapiens</td>\n",
              "      <td>GAUAUGUUAGAUGACAGAAAG</td>\n",
              "      <td>GATATGTTAGATGACAGAAAG</td>\n",
              "    </tr>\n",
              "    <tr>\n",
              "      <th>3</th>\n",
              "      <td>3</td>\n",
              "      <td>hsa-let-7a-3p</td>\n",
              "      <td>CUAUACAAUCUACUGUCUUUC</td>\n",
              "      <td>lncRNA</td>\n",
              "      <td>sarcoma</td>\n",
              "      <td>Regulation [up-regulated]</td>\n",
              "      <td>Homo sapiens</td>\n",
              "      <td>GAUAUGUUAGAUGACAGAAAG</td>\n",
              "      <td>GATATGTTAGATGACAGAAAG</td>\n",
              "    </tr>\n",
              "    <tr>\n",
              "      <th>4</th>\n",
              "      <td>4</td>\n",
              "      <td>hsa-let-7a-3p</td>\n",
              "      <td>CUAUACAAUCUACUGUCUUUC</td>\n",
              "      <td>lncRNA</td>\n",
              "      <td>breast cancer</td>\n",
              "      <td>Regulation [up-regulated]</td>\n",
              "      <td>Homo sapiens</td>\n",
              "      <td>GAUAUGUUAGAUGACAGAAAG</td>\n",
              "      <td>GATATGTTAGATGACAGAAAG</td>\n",
              "    </tr>\n",
              "  </tbody>\n",
              "</table>\n",
              "</div>"
            ],
            "text/plain": [
              "   Unnamed: 0         Rna_id  ...          Anti_Sequence         new_Anti_seque\n",
              "0           0  hsa-let-7a-3p  ...  GAUAUGUUAGAUGACAGAAAG  GATATGTTAGATGACAGAAAG\n",
              "1           1  hsa-let-7a-3p  ...  GAUAUGUUAGAUGACAGAAAG  GATATGTTAGATGACAGAAAG\n",
              "2           2  hsa-let-7a-3p  ...  GAUAUGUUAGAUGACAGAAAG  GATATGTTAGATGACAGAAAG\n",
              "3           3  hsa-let-7a-3p  ...  GAUAUGUUAGAUGACAGAAAG  GATATGTTAGATGACAGAAAG\n",
              "4           4  hsa-let-7a-3p  ...  GAUAUGUUAGAUGACAGAAAG  GATATGTTAGATGACAGAAAG\n",
              "\n",
              "[5 rows x 9 columns]"
            ]
          },
          "metadata": {
            "tags": []
          },
          "execution_count": 7
        }
      ]
    },
    {
      "cell_type": "code",
      "metadata": {
        "colab": {
          "base_uri": "https://localhost:8080/",
          "height": 415
        },
        "id": "sQ5ShFhGP7Hp",
        "outputId": "09b8788e-0dc6-4ac7-854c-e70b160bc93b"
      },
      "source": [
        "data.drop(['Unnamed: 0','ncRNA Category','Disease Name','Dysfunction Pattern','Species'],axis=1)"
      ],
      "execution_count": 8,
      "outputs": [
        {
          "output_type": "execute_result",
          "data": {
            "text/html": [
              "<div>\n",
              "<style scoped>\n",
              "    .dataframe tbody tr th:only-of-type {\n",
              "        vertical-align: middle;\n",
              "    }\n",
              "\n",
              "    .dataframe tbody tr th {\n",
              "        vertical-align: top;\n",
              "    }\n",
              "\n",
              "    .dataframe thead th {\n",
              "        text-align: right;\n",
              "    }\n",
              "</style>\n",
              "<table border=\"1\" class=\"dataframe\">\n",
              "  <thead>\n",
              "    <tr style=\"text-align: right;\">\n",
              "      <th></th>\n",
              "      <th>Rna_id</th>\n",
              "      <th>Sequence</th>\n",
              "      <th>Anti_Sequence</th>\n",
              "      <th>new_Anti_seque</th>\n",
              "    </tr>\n",
              "  </thead>\n",
              "  <tbody>\n",
              "    <tr>\n",
              "      <th>0</th>\n",
              "      <td>hsa-let-7a-3p</td>\n",
              "      <td>CUAUACAAUCUACUGUCUUUC</td>\n",
              "      <td>GAUAUGUUAGAUGACAGAAAG</td>\n",
              "      <td>GATATGTTAGATGACAGAAAG</td>\n",
              "    </tr>\n",
              "    <tr>\n",
              "      <th>1</th>\n",
              "      <td>hsa-let-7a-3p</td>\n",
              "      <td>CUAUACAAUCUACUGUCUUUC</td>\n",
              "      <td>GAUAUGUUAGAUGACAGAAAG</td>\n",
              "      <td>GATATGTTAGATGACAGAAAG</td>\n",
              "    </tr>\n",
              "    <tr>\n",
              "      <th>2</th>\n",
              "      <td>hsa-let-7a-3p</td>\n",
              "      <td>CUAUACAAUCUACUGUCUUUC</td>\n",
              "      <td>GAUAUGUUAGAUGACAGAAAG</td>\n",
              "      <td>GATATGTTAGATGACAGAAAG</td>\n",
              "    </tr>\n",
              "    <tr>\n",
              "      <th>3</th>\n",
              "      <td>hsa-let-7a-3p</td>\n",
              "      <td>CUAUACAAUCUACUGUCUUUC</td>\n",
              "      <td>GAUAUGUUAGAUGACAGAAAG</td>\n",
              "      <td>GATATGTTAGATGACAGAAAG</td>\n",
              "    </tr>\n",
              "    <tr>\n",
              "      <th>4</th>\n",
              "      <td>hsa-let-7a-3p</td>\n",
              "      <td>CUAUACAAUCUACUGUCUUUC</td>\n",
              "      <td>GAUAUGUUAGAUGACAGAAAG</td>\n",
              "      <td>GATATGTTAGATGACAGAAAG</td>\n",
              "    </tr>\n",
              "    <tr>\n",
              "      <th>...</th>\n",
              "      <td>...</td>\n",
              "      <td>...</td>\n",
              "      <td>...</td>\n",
              "      <td>...</td>\n",
              "    </tr>\n",
              "    <tr>\n",
              "      <th>25751</th>\n",
              "      <td>hsa-miR-513b-5p</td>\n",
              "      <td>UUCACAAGGAGGUGUCAUUUAU</td>\n",
              "      <td>AAGUGUUCCUCCACAGUAAAUA</td>\n",
              "      <td>AAGTGTTCCTCCACAGTAAATA</td>\n",
              "    </tr>\n",
              "    <tr>\n",
              "      <th>25752</th>\n",
              "      <td>hsa-miR-513b-5p</td>\n",
              "      <td>UUCACAAGGAGGUGUCAUUUAU</td>\n",
              "      <td>AAGUGUUCCUCCACAGUAAAUA</td>\n",
              "      <td>AAGTGTTCCTCCACAGTAAATA</td>\n",
              "    </tr>\n",
              "    <tr>\n",
              "      <th>25753</th>\n",
              "      <td>hsa-miR-495-5p</td>\n",
              "      <td>GAAGUUGCCCAUGUUAUUUUCG</td>\n",
              "      <td>CUUCAACGGGUACAAUAAAAGC</td>\n",
              "      <td>CTTCAACGGGTACAATAAAAGC</td>\n",
              "    </tr>\n",
              "    <tr>\n",
              "      <th>25754</th>\n",
              "      <td>hsa-miR-4784</td>\n",
              "      <td>UGAGGAGAUGCUGGGACUGA</td>\n",
              "      <td>ACUCCUCUACGACCCUGACU</td>\n",
              "      <td>ACTCCTCTACGACCCTGACT</td>\n",
              "    </tr>\n",
              "    <tr>\n",
              "      <th>25755</th>\n",
              "      <td>hsa-miR-1298-3p</td>\n",
              "      <td>CAUCUGGGCAACUGACUGAAC</td>\n",
              "      <td>GUAGACCCGUUGACUGACUUG</td>\n",
              "      <td>GTAGACCCGTTGACTGACTTG</td>\n",
              "    </tr>\n",
              "  </tbody>\n",
              "</table>\n",
              "<p>25756 rows × 4 columns</p>\n",
              "</div>"
            ],
            "text/plain": [
              "                Rna_id  ...          new_Anti_seque\n",
              "0        hsa-let-7a-3p  ...   GATATGTTAGATGACAGAAAG\n",
              "1        hsa-let-7a-3p  ...   GATATGTTAGATGACAGAAAG\n",
              "2        hsa-let-7a-3p  ...   GATATGTTAGATGACAGAAAG\n",
              "3        hsa-let-7a-3p  ...   GATATGTTAGATGACAGAAAG\n",
              "4        hsa-let-7a-3p  ...   GATATGTTAGATGACAGAAAG\n",
              "...                ...  ...                     ...\n",
              "25751  hsa-miR-513b-5p  ...  AAGTGTTCCTCCACAGTAAATA\n",
              "25752  hsa-miR-513b-5p  ...  AAGTGTTCCTCCACAGTAAATA\n",
              "25753   hsa-miR-495-5p  ...  CTTCAACGGGTACAATAAAAGC\n",
              "25754     hsa-miR-4784  ...    ACTCCTCTACGACCCTGACT\n",
              "25755  hsa-miR-1298-3p  ...   GTAGACCCGTTGACTGACTTG\n",
              "\n",
              "[25756 rows x 4 columns]"
            ]
          },
          "metadata": {
            "tags": []
          },
          "execution_count": 8
        }
      ]
    },
    {
      "cell_type": "code",
      "metadata": {
        "id": "9rmvYb3JP9tv"
      },
      "source": [
        "data = data[['Rna_id','Sequence','new_Anti_seque']]"
      ],
      "execution_count": 10,
      "outputs": []
    },
    {
      "cell_type": "code",
      "metadata": {
        "id": "_NPE9LAzNfzN"
      },
      "source": [
        "data.to_csv('fin_data.csv')"
      ],
      "execution_count": 11,
      "outputs": []
    },
    {
      "cell_type": "code",
      "metadata": {
        "id": "MFpSDgwlNqIY"
      },
      "source": [
        "df=pd.read_csv('/content/fin_data.csv')"
      ],
      "execution_count": 12,
      "outputs": []
    },
    {
      "cell_type": "code",
      "metadata": {
        "colab": {
          "base_uri": "https://localhost:8080/",
          "height": 202
        },
        "id": "5QEMuIRDOwwf",
        "outputId": "80d5257c-feac-4e94-bc74-76b443a74451"
      },
      "source": [
        "df.head()"
      ],
      "execution_count": 13,
      "outputs": [
        {
          "output_type": "execute_result",
          "data": {
            "text/html": [
              "<div>\n",
              "<style scoped>\n",
              "    .dataframe tbody tr th:only-of-type {\n",
              "        vertical-align: middle;\n",
              "    }\n",
              "\n",
              "    .dataframe tbody tr th {\n",
              "        vertical-align: top;\n",
              "    }\n",
              "\n",
              "    .dataframe thead th {\n",
              "        text-align: right;\n",
              "    }\n",
              "</style>\n",
              "<table border=\"1\" class=\"dataframe\">\n",
              "  <thead>\n",
              "    <tr style=\"text-align: right;\">\n",
              "      <th></th>\n",
              "      <th>Unnamed: 0</th>\n",
              "      <th>Rna_id</th>\n",
              "      <th>Sequence</th>\n",
              "      <th>new_Anti_seque</th>\n",
              "    </tr>\n",
              "  </thead>\n",
              "  <tbody>\n",
              "    <tr>\n",
              "      <th>0</th>\n",
              "      <td>0</td>\n",
              "      <td>hsa-let-7a-3p</td>\n",
              "      <td>CUAUACAAUCUACUGUCUUUC</td>\n",
              "      <td>GATATGTTAGATGACAGAAAG</td>\n",
              "    </tr>\n",
              "    <tr>\n",
              "      <th>1</th>\n",
              "      <td>1</td>\n",
              "      <td>hsa-let-7a-3p</td>\n",
              "      <td>CUAUACAAUCUACUGUCUUUC</td>\n",
              "      <td>GATATGTTAGATGACAGAAAG</td>\n",
              "    </tr>\n",
              "    <tr>\n",
              "      <th>2</th>\n",
              "      <td>2</td>\n",
              "      <td>hsa-let-7a-3p</td>\n",
              "      <td>CUAUACAAUCUACUGUCUUUC</td>\n",
              "      <td>GATATGTTAGATGACAGAAAG</td>\n",
              "    </tr>\n",
              "    <tr>\n",
              "      <th>3</th>\n",
              "      <td>3</td>\n",
              "      <td>hsa-let-7a-3p</td>\n",
              "      <td>CUAUACAAUCUACUGUCUUUC</td>\n",
              "      <td>GATATGTTAGATGACAGAAAG</td>\n",
              "    </tr>\n",
              "    <tr>\n",
              "      <th>4</th>\n",
              "      <td>4</td>\n",
              "      <td>hsa-let-7a-3p</td>\n",
              "      <td>CUAUACAAUCUACUGUCUUUC</td>\n",
              "      <td>GATATGTTAGATGACAGAAAG</td>\n",
              "    </tr>\n",
              "  </tbody>\n",
              "</table>\n",
              "</div>"
            ],
            "text/plain": [
              "   Unnamed: 0         Rna_id               Sequence         new_Anti_seque\n",
              "0           0  hsa-let-7a-3p  CUAUACAAUCUACUGUCUUUC  GATATGTTAGATGACAGAAAG\n",
              "1           1  hsa-let-7a-3p  CUAUACAAUCUACUGUCUUUC  GATATGTTAGATGACAGAAAG\n",
              "2           2  hsa-let-7a-3p  CUAUACAAUCUACUGUCUUUC  GATATGTTAGATGACAGAAAG\n",
              "3           3  hsa-let-7a-3p  CUAUACAAUCUACUGUCUUUC  GATATGTTAGATGACAGAAAG\n",
              "4           4  hsa-let-7a-3p  CUAUACAAUCUACUGUCUUUC  GATATGTTAGATGACAGAAAG"
            ]
          },
          "metadata": {
            "tags": []
          },
          "execution_count": 13
        }
      ]
    },
    {
      "cell_type": "code",
      "metadata": {
        "colab": {
          "base_uri": "https://localhost:8080/"
        },
        "id": "3dcafAsoGRic",
        "outputId": "d809a697-3207-48db-c91e-6b50be349394"
      },
      "source": [
        "Rna_ids=df['Rna_id'].unique()\n",
        "Rna_ids"
      ],
      "execution_count": 14,
      "outputs": [
        {
          "output_type": "execute_result",
          "data": {
            "text/plain": [
              "array(['hsa-let-7a-3p', 'hsa-let-7g-5p', 'hsa-miR-17-5p', ...,\n",
              "       'hsa-miR-495-5p', 'hsa-miR-4784', 'hsa-miR-1298-3p'], dtype=object)"
            ]
          },
          "metadata": {
            "tags": []
          },
          "execution_count": 14
        }
      ]
    },
    {
      "cell_type": "code",
      "metadata": {
        "colab": {
          "base_uri": "https://localhost:8080/"
        },
        "id": "k169B-eKDqfg",
        "outputId": "a7d2b16b-c7a3-41aa-e0cd-eee84bedc1dc"
      },
      "source": [
        "number_rna=input(\"please How much number of rna will use 2 or 3: \" )\n",
        "if number_rna==2:\n",
        "  rna_id1=input(\"please enter the id of rna1: \" )\n",
        "  rna_id2=input(\"please enter the id of rna2: \" )\n",
        "  if (rna_id1 and rna_id2 not in Rna_ids):\n",
        "     print(\"error: Incorrect Rna_id\")\n",
        "  else:\n",
        "    spacer=input(\"please enter spacer sequence:\")\n",
        "    anti_seuence1=data[data['Rna_id']==rna_id1]['new_Anti_seque']\n",
        "    anti_seuence2=data[data['Rna_id']==rna_id2]['new_Anti_seque']\n",
        "    output=anti_seuence1.iloc[0]+ spacer+anti_seuence2.iloc[0]\n",
        "    print('your microArn sponge sequence is:', output)\n",
        "else:\n",
        "  rna_id1=input(\"please enter the id of rna1: \" )\n",
        "  rna_id2=input(\"please enter the id of rna2: \" )\n",
        "  rna_id3=input(\"please enter the id of rna3: \" )\n",
        "  if (rna_id1 and rna_id2 and rna_id3 not in Rna_ids):\n",
        "      print(\"error: Incorrect Rna_id\")\n",
        "  else:\n",
        "    spacer=input(\"please enter spacer sequence:\")\n",
        "    anti_seuence1=data[data['Rna_id']==rna_id1]['new_Anti_seque']\n",
        "    anti_seuence2=data[data['Rna_id']==rna_id2]['new_Anti_seque']\n",
        "    anti_seuence3=data[data['Rna_id']==rna_id3]['new_Anti_seque']\n",
        "    output=anti_seuence1.iloc[0]+ spacer+anti_seuence2.iloc[0]+spacer+anti_seuence3.iloc[0]\n",
        "    print('your microArn sponge sequence is:', output)\n",
        "\n",
        "\n"
      ],
      "execution_count": 17,
      "outputs": [
        {
          "output_type": "stream",
          "text": [
            "please How much number of rna will use 2 or 3: 3\n",
            "please enter the id of rna1: hsa-miR-4784\n",
            "please enter the id of rna2: hsa-miR-1298-3p\n",
            "please enter the id of rna3: hsa-let-7g-5p\n",
            "please enter spacer sequence:AUAU\n",
            "your microArn sponge sequence is: ACTCCTCTACGACCCTGACTAUAUGTAGACCCGTTGACTGACTTGAUAUACTCCATCATCAAACATGTCAA\n"
          ],
          "name": "stdout"
        }
      ]
    },
    {
      "cell_type": "code",
      "metadata": {
        "id": "8Th3O8krD5r8"
      },
      "source": [
        ""
      ],
      "execution_count": null,
      "outputs": []
    }
  ]
}